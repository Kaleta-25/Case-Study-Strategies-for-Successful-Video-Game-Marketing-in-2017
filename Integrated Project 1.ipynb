{
 "cells": [
  {
   "cell_type": "markdown",
   "metadata": {},
   "source": [
    "# Intergrated Project "
   ]
  },
  {
   "cell_type": "markdown",
   "metadata": {},
   "source": [
    "## Description\n",
    "You work for the online store Ice, which sells video games all over the world. User and expert reviews, genres, platforms (e.g. Xbox or PlayStation), and historical data on game sales are available from open sources. You need to identify patterns that determine whether a game succeeds or not. This will allow you to spot potential big winners and plan advertising campaigns.\n",
    "In front of you is data going back to 2016. Let’s imagine that it’s December 2016 and you’re planning a campaign for 2017.\n",
    "(The important thing is to get experience working with data. It doesn't really matter whether you're forecasting 2017 sales based on data from 2016 or 2017 sales based on data from 2016.)\n",
    "The dataset contains the abbreviation ESRB. The Entertainment Software Rating Board evaluates a game's content and assigns an age rating such as Teen or Mature."
   ]
  },
  {
   "cell_type": "code",
   "execution_count": 41,
   "metadata": {},
   "outputs": [],
   "source": [
    "import pandas\n",
    "import pandas as pd\n",
    "import numpy as np\n",
    "import plotly.express as px\n",
    "import math as mt\n",
    "import seaborn as sns\n",
    "import matplotlib.pyplot as plt\n",
    "import scipy.stats as stats\n",
    "from math import factorial\n",
    "from functools import reduce"
   ]
  },
  {
   "cell_type": "code",
   "execution_count": 42,
   "metadata": {},
   "outputs": [],
   "source": [
    "# Load the data files into different DataFrames\n",
    "def file_path(x):\n",
    "    y = pd.read_csv(x)\n",
    "    return y"
   ]
  },
  {
   "cell_type": "code",
   "execution_count": 43,
   "metadata": {},
   "outputs": [
    {
     "name": "stdout",
     "output_type": "stream",
     "text": [
      "<class 'pandas.core.frame.DataFrame'>\n",
      "RangeIndex: 16715 entries, 0 to 16714\n",
      "Data columns (total 11 columns):\n",
      " #   Column           Non-Null Count  Dtype  \n",
      "---  ------           --------------  -----  \n",
      " 0   Name             16713 non-null  object \n",
      " 1   Platform         16715 non-null  object \n",
      " 2   Year_of_Release  16446 non-null  float64\n",
      " 3   Genre            16713 non-null  object \n",
      " 4   NA_sales         16715 non-null  float64\n",
      " 5   EU_sales         16715 non-null  float64\n",
      " 6   JP_sales         16715 non-null  float64\n",
      " 7   Other_sales      16715 non-null  float64\n",
      " 8   Critic_Score     8137 non-null   float64\n",
      " 9   User_Score       10014 non-null  object \n",
      " 10  Rating           9949 non-null   object \n",
      "dtypes: float64(6), object(5)\n",
      "memory usage: 1.4+ MB\n"
     ]
    },
    {
     "data": {
      "text/html": [
       "<div>\n",
       "<style scoped>\n",
       "    .dataframe tbody tr th:only-of-type {\n",
       "        vertical-align: middle;\n",
       "    }\n",
       "\n",
       "    .dataframe tbody tr th {\n",
       "        vertical-align: top;\n",
       "    }\n",
       "\n",
       "    .dataframe thead th {\n",
       "        text-align: right;\n",
       "    }\n",
       "</style>\n",
       "<table border=\"1\" class=\"dataframe\">\n",
       "  <thead>\n",
       "    <tr style=\"text-align: right;\">\n",
       "      <th></th>\n",
       "      <th>Name</th>\n",
       "      <th>Platform</th>\n",
       "      <th>Year_of_Release</th>\n",
       "      <th>Genre</th>\n",
       "      <th>NA_sales</th>\n",
       "      <th>EU_sales</th>\n",
       "      <th>JP_sales</th>\n",
       "      <th>Other_sales</th>\n",
       "      <th>Critic_Score</th>\n",
       "      <th>User_Score</th>\n",
       "      <th>Rating</th>\n",
       "    </tr>\n",
       "  </thead>\n",
       "  <tbody>\n",
       "    <tr>\n",
       "      <th>0</th>\n",
       "      <td>Wii Sports</td>\n",
       "      <td>Wii</td>\n",
       "      <td>2006.0</td>\n",
       "      <td>Sports</td>\n",
       "      <td>41.36</td>\n",
       "      <td>28.96</td>\n",
       "      <td>3.77</td>\n",
       "      <td>8.45</td>\n",
       "      <td>76.0</td>\n",
       "      <td>8</td>\n",
       "      <td>E</td>\n",
       "    </tr>\n",
       "    <tr>\n",
       "      <th>1</th>\n",
       "      <td>Super Mario Bros.</td>\n",
       "      <td>NES</td>\n",
       "      <td>1985.0</td>\n",
       "      <td>Platform</td>\n",
       "      <td>29.08</td>\n",
       "      <td>3.58</td>\n",
       "      <td>6.81</td>\n",
       "      <td>0.77</td>\n",
       "      <td>NaN</td>\n",
       "      <td>NaN</td>\n",
       "      <td>NaN</td>\n",
       "    </tr>\n",
       "    <tr>\n",
       "      <th>2</th>\n",
       "      <td>Mario Kart Wii</td>\n",
       "      <td>Wii</td>\n",
       "      <td>2008.0</td>\n",
       "      <td>Racing</td>\n",
       "      <td>15.68</td>\n",
       "      <td>12.76</td>\n",
       "      <td>3.79</td>\n",
       "      <td>3.29</td>\n",
       "      <td>82.0</td>\n",
       "      <td>8.3</td>\n",
       "      <td>E</td>\n",
       "    </tr>\n",
       "    <tr>\n",
       "      <th>3</th>\n",
       "      <td>Wii Sports Resort</td>\n",
       "      <td>Wii</td>\n",
       "      <td>2009.0</td>\n",
       "      <td>Sports</td>\n",
       "      <td>15.61</td>\n",
       "      <td>10.93</td>\n",
       "      <td>3.28</td>\n",
       "      <td>2.95</td>\n",
       "      <td>80.0</td>\n",
       "      <td>8</td>\n",
       "      <td>E</td>\n",
       "    </tr>\n",
       "    <tr>\n",
       "      <th>4</th>\n",
       "      <td>Pokemon Red/Pokemon Blue</td>\n",
       "      <td>GB</td>\n",
       "      <td>1996.0</td>\n",
       "      <td>Role-Playing</td>\n",
       "      <td>11.27</td>\n",
       "      <td>8.89</td>\n",
       "      <td>10.22</td>\n",
       "      <td>1.00</td>\n",
       "      <td>NaN</td>\n",
       "      <td>NaN</td>\n",
       "      <td>NaN</td>\n",
       "    </tr>\n",
       "    <tr>\n",
       "      <th>5</th>\n",
       "      <td>Tetris</td>\n",
       "      <td>GB</td>\n",
       "      <td>1989.0</td>\n",
       "      <td>Puzzle</td>\n",
       "      <td>23.20</td>\n",
       "      <td>2.26</td>\n",
       "      <td>4.22</td>\n",
       "      <td>0.58</td>\n",
       "      <td>NaN</td>\n",
       "      <td>NaN</td>\n",
       "      <td>NaN</td>\n",
       "    </tr>\n",
       "    <tr>\n",
       "      <th>6</th>\n",
       "      <td>New Super Mario Bros.</td>\n",
       "      <td>DS</td>\n",
       "      <td>2006.0</td>\n",
       "      <td>Platform</td>\n",
       "      <td>11.28</td>\n",
       "      <td>9.14</td>\n",
       "      <td>6.50</td>\n",
       "      <td>2.88</td>\n",
       "      <td>89.0</td>\n",
       "      <td>8.5</td>\n",
       "      <td>E</td>\n",
       "    </tr>\n",
       "    <tr>\n",
       "      <th>7</th>\n",
       "      <td>Wii Play</td>\n",
       "      <td>Wii</td>\n",
       "      <td>2006.0</td>\n",
       "      <td>Misc</td>\n",
       "      <td>13.96</td>\n",
       "      <td>9.18</td>\n",
       "      <td>2.93</td>\n",
       "      <td>2.84</td>\n",
       "      <td>58.0</td>\n",
       "      <td>6.6</td>\n",
       "      <td>E</td>\n",
       "    </tr>\n",
       "    <tr>\n",
       "      <th>8</th>\n",
       "      <td>New Super Mario Bros. Wii</td>\n",
       "      <td>Wii</td>\n",
       "      <td>2009.0</td>\n",
       "      <td>Platform</td>\n",
       "      <td>14.44</td>\n",
       "      <td>6.94</td>\n",
       "      <td>4.70</td>\n",
       "      <td>2.24</td>\n",
       "      <td>87.0</td>\n",
       "      <td>8.4</td>\n",
       "      <td>E</td>\n",
       "    </tr>\n",
       "    <tr>\n",
       "      <th>9</th>\n",
       "      <td>Duck Hunt</td>\n",
       "      <td>NES</td>\n",
       "      <td>1984.0</td>\n",
       "      <td>Shooter</td>\n",
       "      <td>26.93</td>\n",
       "      <td>0.63</td>\n",
       "      <td>0.28</td>\n",
       "      <td>0.47</td>\n",
       "      <td>NaN</td>\n",
       "      <td>NaN</td>\n",
       "      <td>NaN</td>\n",
       "    </tr>\n",
       "    <tr>\n",
       "      <th>10</th>\n",
       "      <td>Nintendogs</td>\n",
       "      <td>DS</td>\n",
       "      <td>2005.0</td>\n",
       "      <td>Simulation</td>\n",
       "      <td>9.05</td>\n",
       "      <td>10.95</td>\n",
       "      <td>1.93</td>\n",
       "      <td>2.74</td>\n",
       "      <td>NaN</td>\n",
       "      <td>NaN</td>\n",
       "      <td>NaN</td>\n",
       "    </tr>\n",
       "    <tr>\n",
       "      <th>11</th>\n",
       "      <td>Mario Kart DS</td>\n",
       "      <td>DS</td>\n",
       "      <td>2005.0</td>\n",
       "      <td>Racing</td>\n",
       "      <td>9.71</td>\n",
       "      <td>7.47</td>\n",
       "      <td>4.13</td>\n",
       "      <td>1.90</td>\n",
       "      <td>91.0</td>\n",
       "      <td>8.6</td>\n",
       "      <td>E</td>\n",
       "    </tr>\n",
       "    <tr>\n",
       "      <th>12</th>\n",
       "      <td>Pokemon Gold/Pokemon Silver</td>\n",
       "      <td>GB</td>\n",
       "      <td>1999.0</td>\n",
       "      <td>Role-Playing</td>\n",
       "      <td>9.00</td>\n",
       "      <td>6.18</td>\n",
       "      <td>7.20</td>\n",
       "      <td>0.71</td>\n",
       "      <td>NaN</td>\n",
       "      <td>NaN</td>\n",
       "      <td>NaN</td>\n",
       "    </tr>\n",
       "    <tr>\n",
       "      <th>13</th>\n",
       "      <td>Wii Fit</td>\n",
       "      <td>Wii</td>\n",
       "      <td>2007.0</td>\n",
       "      <td>Sports</td>\n",
       "      <td>8.92</td>\n",
       "      <td>8.03</td>\n",
       "      <td>3.60</td>\n",
       "      <td>2.15</td>\n",
       "      <td>80.0</td>\n",
       "      <td>7.7</td>\n",
       "      <td>E</td>\n",
       "    </tr>\n",
       "    <tr>\n",
       "      <th>14</th>\n",
       "      <td>Kinect Adventures!</td>\n",
       "      <td>X360</td>\n",
       "      <td>2010.0</td>\n",
       "      <td>Misc</td>\n",
       "      <td>15.00</td>\n",
       "      <td>4.89</td>\n",
       "      <td>0.24</td>\n",
       "      <td>1.69</td>\n",
       "      <td>61.0</td>\n",
       "      <td>6.3</td>\n",
       "      <td>E</td>\n",
       "    </tr>\n",
       "  </tbody>\n",
       "</table>\n",
       "</div>"
      ],
      "text/plain": [
       "                           Name Platform  Year_of_Release         Genre  \\\n",
       "0                    Wii Sports      Wii           2006.0        Sports   \n",
       "1             Super Mario Bros.      NES           1985.0      Platform   \n",
       "2                Mario Kart Wii      Wii           2008.0        Racing   \n",
       "3             Wii Sports Resort      Wii           2009.0        Sports   \n",
       "4      Pokemon Red/Pokemon Blue       GB           1996.0  Role-Playing   \n",
       "5                        Tetris       GB           1989.0        Puzzle   \n",
       "6         New Super Mario Bros.       DS           2006.0      Platform   \n",
       "7                      Wii Play      Wii           2006.0          Misc   \n",
       "8     New Super Mario Bros. Wii      Wii           2009.0      Platform   \n",
       "9                     Duck Hunt      NES           1984.0       Shooter   \n",
       "10                   Nintendogs       DS           2005.0    Simulation   \n",
       "11                Mario Kart DS       DS           2005.0        Racing   \n",
       "12  Pokemon Gold/Pokemon Silver       GB           1999.0  Role-Playing   \n",
       "13                      Wii Fit      Wii           2007.0        Sports   \n",
       "14           Kinect Adventures!     X360           2010.0          Misc   \n",
       "\n",
       "    NA_sales  EU_sales  JP_sales  Other_sales  Critic_Score User_Score Rating  \n",
       "0      41.36     28.96      3.77         8.45          76.0          8      E  \n",
       "1      29.08      3.58      6.81         0.77           NaN        NaN    NaN  \n",
       "2      15.68     12.76      3.79         3.29          82.0        8.3      E  \n",
       "3      15.61     10.93      3.28         2.95          80.0          8      E  \n",
       "4      11.27      8.89     10.22         1.00           NaN        NaN    NaN  \n",
       "5      23.20      2.26      4.22         0.58           NaN        NaN    NaN  \n",
       "6      11.28      9.14      6.50         2.88          89.0        8.5      E  \n",
       "7      13.96      9.18      2.93         2.84          58.0        6.6      E  \n",
       "8      14.44      6.94      4.70         2.24          87.0        8.4      E  \n",
       "9      26.93      0.63      0.28         0.47           NaN        NaN    NaN  \n",
       "10      9.05     10.95      1.93         2.74           NaN        NaN    NaN  \n",
       "11      9.71      7.47      4.13         1.90          91.0        8.6      E  \n",
       "12      9.00      6.18      7.20         0.71           NaN        NaN    NaN  \n",
       "13      8.92      8.03      3.60         2.15          80.0        7.7      E  \n",
       "14     15.00      4.89      0.24         1.69          61.0        6.3      E  "
      ]
     },
     "execution_count": 43,
     "metadata": {},
     "output_type": "execute_result"
    }
   ],
   "source": [
    "data = file_path(r\"C:\\Users\\kevin\\datasets\\moved_games.csv\")\n",
    "data.info()\n",
    "data.head(15)"
   ]
  },
  {
   "cell_type": "markdown",
   "metadata": {},
   "source": [
    "# Data Preperation "
   ]
  },
  {
   "cell_type": "code",
   "execution_count": 44,
   "metadata": {},
   "outputs": [
    {
     "name": "stdout",
     "output_type": "stream",
     "text": [
      "Index(['name', 'platform', 'year_of_release', 'genre', 'na_sales', 'eu_sales',\n",
      "       'jp_sales', 'other_sales', 'critic_score', 'user_score', 'rating'],\n",
      "      dtype='object')\n"
     ]
    }
   ],
   "source": [
    "data.rename(columns= {col: col.lower() for col in data.columns}, inplace=True)\n",
    "print(data.columns)\n",
    "\n"
   ]
  },
  {
   "cell_type": "code",
   "execution_count": 45,
   "metadata": {},
   "outputs": [
    {
     "data": {
      "text/html": [
       "<style type=\"text/css\">\n",
       "#T_167c0_row0_col0 {\n",
       "  background-color: #b40426;\n",
       "  color: #f1f1f1;\n",
       "}\n",
       "#T_167c0_row1_col0 {\n",
       "  background-color: #f08a6c;\n",
       "  color: #f1f1f1;\n",
       "}\n",
       "#T_167c0_row2_col0 {\n",
       "  background-color: #f18d6f;\n",
       "  color: #f1f1f1;\n",
       "}\n",
       "#T_167c0_row3_col0 {\n",
       "  background-color: #445acc;\n",
       "  color: #f1f1f1;\n",
       "}\n",
       "#T_167c0_row4_col0, #T_167c0_row5_col0, #T_167c0_row6_col0, #T_167c0_row7_col0, #T_167c0_row8_col0, #T_167c0_row9_col0, #T_167c0_row10_col0 {\n",
       "  background-color: #3b4cc0;\n",
       "  color: #f1f1f1;\n",
       "}\n",
       "</style>\n",
       "<table id=\"T_167c0\">\n",
       "  <thead>\n",
       "    <tr>\n",
       "      <th class=\"blank level0\" >&nbsp;</th>\n",
       "      <th id=\"T_167c0_level0_col0\" class=\"col_heading level0 col0\" >0</th>\n",
       "    </tr>\n",
       "  </thead>\n",
       "  <tbody>\n",
       "    <tr>\n",
       "      <th id=\"T_167c0_level0_row0\" class=\"row_heading level0 row0\" >critic_score</th>\n",
       "      <td id=\"T_167c0_row0_col0\" class=\"data row0 col0\" >51.319174</td>\n",
       "    </tr>\n",
       "    <tr>\n",
       "      <th id=\"T_167c0_level0_row1\" class=\"row_heading level0 row1\" >rating</th>\n",
       "      <td id=\"T_167c0_row1_col0\" class=\"data row1 col0\" >40.478612</td>\n",
       "    </tr>\n",
       "    <tr>\n",
       "      <th id=\"T_167c0_level0_row2\" class=\"row_heading level0 row2\" >user_score</th>\n",
       "      <td id=\"T_167c0_row2_col0\" class=\"data row2 col0\" >40.089740</td>\n",
       "    </tr>\n",
       "    <tr>\n",
       "      <th id=\"T_167c0_level0_row3\" class=\"row_heading level0 row3\" >year_of_release</th>\n",
       "      <td id=\"T_167c0_row3_col0\" class=\"data row3 col0\" >1.609333</td>\n",
       "    </tr>\n",
       "    <tr>\n",
       "      <th id=\"T_167c0_level0_row4\" class=\"row_heading level0 row4\" >genre</th>\n",
       "      <td id=\"T_167c0_row4_col0\" class=\"data row4 col0\" >0.011965</td>\n",
       "    </tr>\n",
       "    <tr>\n",
       "      <th id=\"T_167c0_level0_row5\" class=\"row_heading level0 row5\" >name</th>\n",
       "      <td id=\"T_167c0_row5_col0\" class=\"data row5 col0\" >0.011965</td>\n",
       "    </tr>\n",
       "    <tr>\n",
       "      <th id=\"T_167c0_level0_row6\" class=\"row_heading level0 row6\" >other_sales</th>\n",
       "      <td id=\"T_167c0_row6_col0\" class=\"data row6 col0\" >0.000000</td>\n",
       "    </tr>\n",
       "    <tr>\n",
       "      <th id=\"T_167c0_level0_row7\" class=\"row_heading level0 row7\" >jp_sales</th>\n",
       "      <td id=\"T_167c0_row7_col0\" class=\"data row7 col0\" >0.000000</td>\n",
       "    </tr>\n",
       "    <tr>\n",
       "      <th id=\"T_167c0_level0_row8\" class=\"row_heading level0 row8\" >eu_sales</th>\n",
       "      <td id=\"T_167c0_row8_col0\" class=\"data row8 col0\" >0.000000</td>\n",
       "    </tr>\n",
       "    <tr>\n",
       "      <th id=\"T_167c0_level0_row9\" class=\"row_heading level0 row9\" >na_sales</th>\n",
       "      <td id=\"T_167c0_row9_col0\" class=\"data row9 col0\" >0.000000</td>\n",
       "    </tr>\n",
       "    <tr>\n",
       "      <th id=\"T_167c0_level0_row10\" class=\"row_heading level0 row10\" >platform</th>\n",
       "      <td id=\"T_167c0_row10_col0\" class=\"data row10 col0\" >0.000000</td>\n",
       "    </tr>\n",
       "  </tbody>\n",
       "</table>\n"
      ],
      "text/plain": [
       "<pandas.io.formats.style.Styler at 0x2400a64cc40>"
      ]
     },
     "execution_count": 45,
     "metadata": {},
     "output_type": "execute_result"
    }
   ],
   "source": [
    "# % of missing values\n",
    "pd.DataFrame(data.isna().mean()*100).sort_values(by=0)[::-1].style.background_gradient('coolwarm')"
   ]
  },
  {
   "cell_type": "code",
   "execution_count": 46,
   "metadata": {},
   "outputs": [
    {
     "data": {
      "text/html": [
       "<div>\n",
       "<style scoped>\n",
       "    .dataframe tbody tr th:only-of-type {\n",
       "        vertical-align: middle;\n",
       "    }\n",
       "\n",
       "    .dataframe tbody tr th {\n",
       "        vertical-align: top;\n",
       "    }\n",
       "\n",
       "    .dataframe thead th {\n",
       "        text-align: right;\n",
       "    }\n",
       "</style>\n",
       "<table border=\"1\" class=\"dataframe\">\n",
       "  <thead>\n",
       "    <tr style=\"text-align: right;\">\n",
       "      <th></th>\n",
       "      <th>name</th>\n",
       "      <th>platform</th>\n",
       "      <th>year_of_release</th>\n",
       "      <th>genre</th>\n",
       "      <th>na_sales</th>\n",
       "      <th>eu_sales</th>\n",
       "      <th>jp_sales</th>\n",
       "      <th>other_sales</th>\n",
       "      <th>critic_score</th>\n",
       "      <th>user_score</th>\n",
       "      <th>rating</th>\n",
       "    </tr>\n",
       "  </thead>\n",
       "  <tbody>\n",
       "    <tr>\n",
       "      <th>0</th>\n",
       "      <td>Wii Sports</td>\n",
       "      <td>Wii</td>\n",
       "      <td>2006.0</td>\n",
       "      <td>Sports</td>\n",
       "      <td>41.36</td>\n",
       "      <td>28.96</td>\n",
       "      <td>3.77</td>\n",
       "      <td>8.45</td>\n",
       "      <td>76.0</td>\n",
       "      <td>8</td>\n",
       "      <td>E</td>\n",
       "    </tr>\n",
       "    <tr>\n",
       "      <th>1</th>\n",
       "      <td>Super Mario Bros.</td>\n",
       "      <td>NES</td>\n",
       "      <td>1985.0</td>\n",
       "      <td>Platform</td>\n",
       "      <td>29.08</td>\n",
       "      <td>3.58</td>\n",
       "      <td>6.81</td>\n",
       "      <td>0.77</td>\n",
       "      <td>-1.0</td>\n",
       "      <td>-1</td>\n",
       "      <td>N/A</td>\n",
       "    </tr>\n",
       "    <tr>\n",
       "      <th>2</th>\n",
       "      <td>Mario Kart Wii</td>\n",
       "      <td>Wii</td>\n",
       "      <td>2008.0</td>\n",
       "      <td>Racing</td>\n",
       "      <td>15.68</td>\n",
       "      <td>12.76</td>\n",
       "      <td>3.79</td>\n",
       "      <td>3.29</td>\n",
       "      <td>82.0</td>\n",
       "      <td>8.3</td>\n",
       "      <td>E</td>\n",
       "    </tr>\n",
       "    <tr>\n",
       "      <th>3</th>\n",
       "      <td>Wii Sports Resort</td>\n",
       "      <td>Wii</td>\n",
       "      <td>2009.0</td>\n",
       "      <td>Sports</td>\n",
       "      <td>15.61</td>\n",
       "      <td>10.93</td>\n",
       "      <td>3.28</td>\n",
       "      <td>2.95</td>\n",
       "      <td>80.0</td>\n",
       "      <td>8</td>\n",
       "      <td>E</td>\n",
       "    </tr>\n",
       "    <tr>\n",
       "      <th>4</th>\n",
       "      <td>Pokemon Red/Pokemon Blue</td>\n",
       "      <td>GB</td>\n",
       "      <td>1996.0</td>\n",
       "      <td>Role-Playing</td>\n",
       "      <td>11.27</td>\n",
       "      <td>8.89</td>\n",
       "      <td>10.22</td>\n",
       "      <td>1.00</td>\n",
       "      <td>-1.0</td>\n",
       "      <td>-1</td>\n",
       "      <td>N/A</td>\n",
       "    </tr>\n",
       "    <tr>\n",
       "      <th>5</th>\n",
       "      <td>Tetris</td>\n",
       "      <td>GB</td>\n",
       "      <td>1989.0</td>\n",
       "      <td>Puzzle</td>\n",
       "      <td>23.20</td>\n",
       "      <td>2.26</td>\n",
       "      <td>4.22</td>\n",
       "      <td>0.58</td>\n",
       "      <td>-1.0</td>\n",
       "      <td>-1</td>\n",
       "      <td>N/A</td>\n",
       "    </tr>\n",
       "    <tr>\n",
       "      <th>6</th>\n",
       "      <td>New Super Mario Bros.</td>\n",
       "      <td>DS</td>\n",
       "      <td>2006.0</td>\n",
       "      <td>Platform</td>\n",
       "      <td>11.28</td>\n",
       "      <td>9.14</td>\n",
       "      <td>6.50</td>\n",
       "      <td>2.88</td>\n",
       "      <td>89.0</td>\n",
       "      <td>8.5</td>\n",
       "      <td>E</td>\n",
       "    </tr>\n",
       "    <tr>\n",
       "      <th>7</th>\n",
       "      <td>Wii Play</td>\n",
       "      <td>Wii</td>\n",
       "      <td>2006.0</td>\n",
       "      <td>Misc</td>\n",
       "      <td>13.96</td>\n",
       "      <td>9.18</td>\n",
       "      <td>2.93</td>\n",
       "      <td>2.84</td>\n",
       "      <td>58.0</td>\n",
       "      <td>6.6</td>\n",
       "      <td>E</td>\n",
       "    </tr>\n",
       "    <tr>\n",
       "      <th>8</th>\n",
       "      <td>New Super Mario Bros. Wii</td>\n",
       "      <td>Wii</td>\n",
       "      <td>2009.0</td>\n",
       "      <td>Platform</td>\n",
       "      <td>14.44</td>\n",
       "      <td>6.94</td>\n",
       "      <td>4.70</td>\n",
       "      <td>2.24</td>\n",
       "      <td>87.0</td>\n",
       "      <td>8.4</td>\n",
       "      <td>E</td>\n",
       "    </tr>\n",
       "    <tr>\n",
       "      <th>9</th>\n",
       "      <td>Duck Hunt</td>\n",
       "      <td>NES</td>\n",
       "      <td>1984.0</td>\n",
       "      <td>Shooter</td>\n",
       "      <td>26.93</td>\n",
       "      <td>0.63</td>\n",
       "      <td>0.28</td>\n",
       "      <td>0.47</td>\n",
       "      <td>-1.0</td>\n",
       "      <td>-1</td>\n",
       "      <td>N/A</td>\n",
       "    </tr>\n",
       "    <tr>\n",
       "      <th>10</th>\n",
       "      <td>Nintendogs</td>\n",
       "      <td>DS</td>\n",
       "      <td>2005.0</td>\n",
       "      <td>Simulation</td>\n",
       "      <td>9.05</td>\n",
       "      <td>10.95</td>\n",
       "      <td>1.93</td>\n",
       "      <td>2.74</td>\n",
       "      <td>-1.0</td>\n",
       "      <td>-1</td>\n",
       "      <td>N/A</td>\n",
       "    </tr>\n",
       "    <tr>\n",
       "      <th>11</th>\n",
       "      <td>Mario Kart DS</td>\n",
       "      <td>DS</td>\n",
       "      <td>2005.0</td>\n",
       "      <td>Racing</td>\n",
       "      <td>9.71</td>\n",
       "      <td>7.47</td>\n",
       "      <td>4.13</td>\n",
       "      <td>1.90</td>\n",
       "      <td>91.0</td>\n",
       "      <td>8.6</td>\n",
       "      <td>E</td>\n",
       "    </tr>\n",
       "    <tr>\n",
       "      <th>12</th>\n",
       "      <td>Pokemon Gold/Pokemon Silver</td>\n",
       "      <td>GB</td>\n",
       "      <td>1999.0</td>\n",
       "      <td>Role-Playing</td>\n",
       "      <td>9.00</td>\n",
       "      <td>6.18</td>\n",
       "      <td>7.20</td>\n",
       "      <td>0.71</td>\n",
       "      <td>-1.0</td>\n",
       "      <td>-1</td>\n",
       "      <td>N/A</td>\n",
       "    </tr>\n",
       "    <tr>\n",
       "      <th>13</th>\n",
       "      <td>Wii Fit</td>\n",
       "      <td>Wii</td>\n",
       "      <td>2007.0</td>\n",
       "      <td>Sports</td>\n",
       "      <td>8.92</td>\n",
       "      <td>8.03</td>\n",
       "      <td>3.60</td>\n",
       "      <td>2.15</td>\n",
       "      <td>80.0</td>\n",
       "      <td>7.7</td>\n",
       "      <td>E</td>\n",
       "    </tr>\n",
       "    <tr>\n",
       "      <th>14</th>\n",
       "      <td>Kinect Adventures!</td>\n",
       "      <td>X360</td>\n",
       "      <td>2010.0</td>\n",
       "      <td>Misc</td>\n",
       "      <td>15.00</td>\n",
       "      <td>4.89</td>\n",
       "      <td>0.24</td>\n",
       "      <td>1.69</td>\n",
       "      <td>61.0</td>\n",
       "      <td>6.3</td>\n",
       "      <td>E</td>\n",
       "    </tr>\n",
       "  </tbody>\n",
       "</table>\n",
       "</div>"
      ],
      "text/plain": [
       "                           name platform  year_of_release         genre  \\\n",
       "0                    Wii Sports      Wii           2006.0        Sports   \n",
       "1             Super Mario Bros.      NES           1985.0      Platform   \n",
       "2                Mario Kart Wii      Wii           2008.0        Racing   \n",
       "3             Wii Sports Resort      Wii           2009.0        Sports   \n",
       "4      Pokemon Red/Pokemon Blue       GB           1996.0  Role-Playing   \n",
       "5                        Tetris       GB           1989.0        Puzzle   \n",
       "6         New Super Mario Bros.       DS           2006.0      Platform   \n",
       "7                      Wii Play      Wii           2006.0          Misc   \n",
       "8     New Super Mario Bros. Wii      Wii           2009.0      Platform   \n",
       "9                     Duck Hunt      NES           1984.0       Shooter   \n",
       "10                   Nintendogs       DS           2005.0    Simulation   \n",
       "11                Mario Kart DS       DS           2005.0        Racing   \n",
       "12  Pokemon Gold/Pokemon Silver       GB           1999.0  Role-Playing   \n",
       "13                      Wii Fit      Wii           2007.0        Sports   \n",
       "14           Kinect Adventures!     X360           2010.0          Misc   \n",
       "\n",
       "    na_sales  eu_sales  jp_sales  other_sales  critic_score user_score rating  \n",
       "0      41.36     28.96      3.77         8.45          76.0          8      E  \n",
       "1      29.08      3.58      6.81         0.77          -1.0         -1    N/A  \n",
       "2      15.68     12.76      3.79         3.29          82.0        8.3      E  \n",
       "3      15.61     10.93      3.28         2.95          80.0          8      E  \n",
       "4      11.27      8.89     10.22         1.00          -1.0         -1    N/A  \n",
       "5      23.20      2.26      4.22         0.58          -1.0         -1    N/A  \n",
       "6      11.28      9.14      6.50         2.88          89.0        8.5      E  \n",
       "7      13.96      9.18      2.93         2.84          58.0        6.6      E  \n",
       "8      14.44      6.94      4.70         2.24          87.0        8.4      E  \n",
       "9      26.93      0.63      0.28         0.47          -1.0         -1    N/A  \n",
       "10      9.05     10.95      1.93         2.74          -1.0         -1    N/A  \n",
       "11      9.71      7.47      4.13         1.90          91.0        8.6      E  \n",
       "12      9.00      6.18      7.20         0.71          -1.0         -1    N/A  \n",
       "13      8.92      8.03      3.60         2.15          80.0        7.7      E  \n",
       "14     15.00      4.89      0.24         1.69          61.0        6.3      E  "
      ]
     },
     "execution_count": 46,
     "metadata": {},
     "output_type": "execute_result"
    }
   ],
   "source": [
    "data['user_score'].replace(\"tbd\", np.nan, inplace=True)\n",
    "# There were 2-3 cells in the database that had a string value in them. I replaced this with NaN values since there is no score to begin with \n",
    "data['year_of_release'] = data['year_of_release'].fillna(-1)\n",
    "data['critic_score'] = data['critic_score'].fillna(-1)\n",
    "data['user_score'] = data['user_score'].fillna(-1)\n",
    "\n",
    "data['rating'] = data['rating'].fillna('N/A')\n",
    "data.head(15)"
   ]
  },
  {
   "cell_type": "markdown",
   "metadata": {},
   "source": [
    "-1 means N/A\n",
    "Missing values in the critic and user scores are represented with 0. Median or mean would not be a good way to represent this data. We want to make sure we are giving accurate scores and year of release. \n",
    "Adding a score that is far greater or far less than the original score would inaccurately describe how good the video game actually is. "
   ]
  },
  {
   "cell_type": "code",
   "execution_count": 47,
   "metadata": {},
   "outputs": [],
   "source": [
    "# Convert the 'release_year' column to an integer\n",
    "data[\"year_of_release\"] = data[\"year_of_release\"].astype(int)\n",
    "# Convert the 'critic_score' and 'user_score' columns to floats\n",
    "data[\"critic_score\"] = data[\"critic_score\"].astype(int)\n",
    "data[\"user_score\"] = data[\"user_score\"].astype(float)\n"
   ]
  },
  {
   "cell_type": "code",
   "execution_count": 48,
   "metadata": {},
   "outputs": [
    {
     "name": "stdout",
     "output_type": "stream",
     "text": [
      "<class 'pandas.core.frame.DataFrame'>\n",
      "RangeIndex: 16715 entries, 0 to 16714\n",
      "Data columns (total 11 columns):\n",
      " #   Column           Non-Null Count  Dtype  \n",
      "---  ------           --------------  -----  \n",
      " 0   name             16713 non-null  object \n",
      " 1   platform         16715 non-null  object \n",
      " 2   year_of_release  16715 non-null  int32  \n",
      " 3   genre            16713 non-null  object \n",
      " 4   na_sales         16715 non-null  float64\n",
      " 5   eu_sales         16715 non-null  float64\n",
      " 6   jp_sales         16715 non-null  float64\n",
      " 7   other_sales      16715 non-null  float64\n",
      " 8   critic_score     16715 non-null  int32  \n",
      " 9   user_score       16715 non-null  float64\n",
      " 10  rating           16715 non-null  object \n",
      "dtypes: float64(5), int32(2), object(4)\n",
      "memory usage: 1.3+ MB\n"
     ]
    }
   ],
   "source": [
    "data.info()"
   ]
  },
  {
   "cell_type": "code",
   "execution_count": 49,
   "metadata": {},
   "outputs": [
    {
     "data": {
      "text/html": [
       "<div>\n",
       "<style scoped>\n",
       "    .dataframe tbody tr th:only-of-type {\n",
       "        vertical-align: middle;\n",
       "    }\n",
       "\n",
       "    .dataframe tbody tr th {\n",
       "        vertical-align: top;\n",
       "    }\n",
       "\n",
       "    .dataframe thead th {\n",
       "        text-align: right;\n",
       "    }\n",
       "</style>\n",
       "<table border=\"1\" class=\"dataframe\">\n",
       "  <thead>\n",
       "    <tr style=\"text-align: right;\">\n",
       "      <th></th>\n",
       "      <th>name</th>\n",
       "      <th>platform</th>\n",
       "      <th>year_of_release</th>\n",
       "      <th>genre</th>\n",
       "      <th>na_sales</th>\n",
       "      <th>eu_sales</th>\n",
       "      <th>jp_sales</th>\n",
       "      <th>other_sales</th>\n",
       "      <th>critic_score</th>\n",
       "      <th>user_score</th>\n",
       "      <th>rating</th>\n",
       "      <th>total_sales</th>\n",
       "    </tr>\n",
       "  </thead>\n",
       "  <tbody>\n",
       "    <tr>\n",
       "      <th>0</th>\n",
       "      <td>Wii Sports</td>\n",
       "      <td>Wii</td>\n",
       "      <td>2006</td>\n",
       "      <td>Sports</td>\n",
       "      <td>41.36</td>\n",
       "      <td>28.96</td>\n",
       "      <td>3.77</td>\n",
       "      <td>8.45</td>\n",
       "      <td>76</td>\n",
       "      <td>8.0</td>\n",
       "      <td>E</td>\n",
       "      <td>82.54</td>\n",
       "    </tr>\n",
       "    <tr>\n",
       "      <th>1</th>\n",
       "      <td>Super Mario Bros.</td>\n",
       "      <td>NES</td>\n",
       "      <td>1985</td>\n",
       "      <td>Platform</td>\n",
       "      <td>29.08</td>\n",
       "      <td>3.58</td>\n",
       "      <td>6.81</td>\n",
       "      <td>0.77</td>\n",
       "      <td>-1</td>\n",
       "      <td>-1.0</td>\n",
       "      <td>N/A</td>\n",
       "      <td>40.24</td>\n",
       "    </tr>\n",
       "    <tr>\n",
       "      <th>2</th>\n",
       "      <td>Mario Kart Wii</td>\n",
       "      <td>Wii</td>\n",
       "      <td>2008</td>\n",
       "      <td>Racing</td>\n",
       "      <td>15.68</td>\n",
       "      <td>12.76</td>\n",
       "      <td>3.79</td>\n",
       "      <td>3.29</td>\n",
       "      <td>82</td>\n",
       "      <td>8.3</td>\n",
       "      <td>E</td>\n",
       "      <td>35.52</td>\n",
       "    </tr>\n",
       "    <tr>\n",
       "      <th>3</th>\n",
       "      <td>Wii Sports Resort</td>\n",
       "      <td>Wii</td>\n",
       "      <td>2009</td>\n",
       "      <td>Sports</td>\n",
       "      <td>15.61</td>\n",
       "      <td>10.93</td>\n",
       "      <td>3.28</td>\n",
       "      <td>2.95</td>\n",
       "      <td>80</td>\n",
       "      <td>8.0</td>\n",
       "      <td>E</td>\n",
       "      <td>32.77</td>\n",
       "    </tr>\n",
       "    <tr>\n",
       "      <th>4</th>\n",
       "      <td>Pokemon Red/Pokemon Blue</td>\n",
       "      <td>GB</td>\n",
       "      <td>1996</td>\n",
       "      <td>Role-Playing</td>\n",
       "      <td>11.27</td>\n",
       "      <td>8.89</td>\n",
       "      <td>10.22</td>\n",
       "      <td>1.00</td>\n",
       "      <td>-1</td>\n",
       "      <td>-1.0</td>\n",
       "      <td>N/A</td>\n",
       "      <td>31.38</td>\n",
       "    </tr>\n",
       "    <tr>\n",
       "      <th>5</th>\n",
       "      <td>Tetris</td>\n",
       "      <td>GB</td>\n",
       "      <td>1989</td>\n",
       "      <td>Puzzle</td>\n",
       "      <td>23.20</td>\n",
       "      <td>2.26</td>\n",
       "      <td>4.22</td>\n",
       "      <td>0.58</td>\n",
       "      <td>-1</td>\n",
       "      <td>-1.0</td>\n",
       "      <td>N/A</td>\n",
       "      <td>30.26</td>\n",
       "    </tr>\n",
       "    <tr>\n",
       "      <th>6</th>\n",
       "      <td>New Super Mario Bros.</td>\n",
       "      <td>DS</td>\n",
       "      <td>2006</td>\n",
       "      <td>Platform</td>\n",
       "      <td>11.28</td>\n",
       "      <td>9.14</td>\n",
       "      <td>6.50</td>\n",
       "      <td>2.88</td>\n",
       "      <td>89</td>\n",
       "      <td>8.5</td>\n",
       "      <td>E</td>\n",
       "      <td>29.80</td>\n",
       "    </tr>\n",
       "    <tr>\n",
       "      <th>7</th>\n",
       "      <td>Wii Play</td>\n",
       "      <td>Wii</td>\n",
       "      <td>2006</td>\n",
       "      <td>Misc</td>\n",
       "      <td>13.96</td>\n",
       "      <td>9.18</td>\n",
       "      <td>2.93</td>\n",
       "      <td>2.84</td>\n",
       "      <td>58</td>\n",
       "      <td>6.6</td>\n",
       "      <td>E</td>\n",
       "      <td>28.91</td>\n",
       "    </tr>\n",
       "    <tr>\n",
       "      <th>8</th>\n",
       "      <td>New Super Mario Bros. Wii</td>\n",
       "      <td>Wii</td>\n",
       "      <td>2009</td>\n",
       "      <td>Platform</td>\n",
       "      <td>14.44</td>\n",
       "      <td>6.94</td>\n",
       "      <td>4.70</td>\n",
       "      <td>2.24</td>\n",
       "      <td>87</td>\n",
       "      <td>8.4</td>\n",
       "      <td>E</td>\n",
       "      <td>28.32</td>\n",
       "    </tr>\n",
       "    <tr>\n",
       "      <th>9</th>\n",
       "      <td>Duck Hunt</td>\n",
       "      <td>NES</td>\n",
       "      <td>1984</td>\n",
       "      <td>Shooter</td>\n",
       "      <td>26.93</td>\n",
       "      <td>0.63</td>\n",
       "      <td>0.28</td>\n",
       "      <td>0.47</td>\n",
       "      <td>-1</td>\n",
       "      <td>-1.0</td>\n",
       "      <td>N/A</td>\n",
       "      <td>28.31</td>\n",
       "    </tr>\n",
       "    <tr>\n",
       "      <th>10</th>\n",
       "      <td>Nintendogs</td>\n",
       "      <td>DS</td>\n",
       "      <td>2005</td>\n",
       "      <td>Simulation</td>\n",
       "      <td>9.05</td>\n",
       "      <td>10.95</td>\n",
       "      <td>1.93</td>\n",
       "      <td>2.74</td>\n",
       "      <td>-1</td>\n",
       "      <td>-1.0</td>\n",
       "      <td>N/A</td>\n",
       "      <td>24.67</td>\n",
       "    </tr>\n",
       "    <tr>\n",
       "      <th>11</th>\n",
       "      <td>Mario Kart DS</td>\n",
       "      <td>DS</td>\n",
       "      <td>2005</td>\n",
       "      <td>Racing</td>\n",
       "      <td>9.71</td>\n",
       "      <td>7.47</td>\n",
       "      <td>4.13</td>\n",
       "      <td>1.90</td>\n",
       "      <td>91</td>\n",
       "      <td>8.6</td>\n",
       "      <td>E</td>\n",
       "      <td>23.21</td>\n",
       "    </tr>\n",
       "    <tr>\n",
       "      <th>12</th>\n",
       "      <td>Pokemon Gold/Pokemon Silver</td>\n",
       "      <td>GB</td>\n",
       "      <td>1999</td>\n",
       "      <td>Role-Playing</td>\n",
       "      <td>9.00</td>\n",
       "      <td>6.18</td>\n",
       "      <td>7.20</td>\n",
       "      <td>0.71</td>\n",
       "      <td>-1</td>\n",
       "      <td>-1.0</td>\n",
       "      <td>N/A</td>\n",
       "      <td>23.09</td>\n",
       "    </tr>\n",
       "    <tr>\n",
       "      <th>13</th>\n",
       "      <td>Wii Fit</td>\n",
       "      <td>Wii</td>\n",
       "      <td>2007</td>\n",
       "      <td>Sports</td>\n",
       "      <td>8.92</td>\n",
       "      <td>8.03</td>\n",
       "      <td>3.60</td>\n",
       "      <td>2.15</td>\n",
       "      <td>80</td>\n",
       "      <td>7.7</td>\n",
       "      <td>E</td>\n",
       "      <td>22.70</td>\n",
       "    </tr>\n",
       "    <tr>\n",
       "      <th>14</th>\n",
       "      <td>Kinect Adventures!</td>\n",
       "      <td>X360</td>\n",
       "      <td>2010</td>\n",
       "      <td>Misc</td>\n",
       "      <td>15.00</td>\n",
       "      <td>4.89</td>\n",
       "      <td>0.24</td>\n",
       "      <td>1.69</td>\n",
       "      <td>61</td>\n",
       "      <td>6.3</td>\n",
       "      <td>E</td>\n",
       "      <td>21.82</td>\n",
       "    </tr>\n",
       "    <tr>\n",
       "      <th>15</th>\n",
       "      <td>Wii Fit Plus</td>\n",
       "      <td>Wii</td>\n",
       "      <td>2009</td>\n",
       "      <td>Sports</td>\n",
       "      <td>9.01</td>\n",
       "      <td>8.49</td>\n",
       "      <td>2.53</td>\n",
       "      <td>1.77</td>\n",
       "      <td>80</td>\n",
       "      <td>7.4</td>\n",
       "      <td>E</td>\n",
       "      <td>21.80</td>\n",
       "    </tr>\n",
       "    <tr>\n",
       "      <th>16</th>\n",
       "      <td>Grand Theft Auto V</td>\n",
       "      <td>PS3</td>\n",
       "      <td>2013</td>\n",
       "      <td>Action</td>\n",
       "      <td>7.02</td>\n",
       "      <td>9.09</td>\n",
       "      <td>0.98</td>\n",
       "      <td>3.96</td>\n",
       "      <td>97</td>\n",
       "      <td>8.2</td>\n",
       "      <td>M</td>\n",
       "      <td>21.05</td>\n",
       "    </tr>\n",
       "    <tr>\n",
       "      <th>17</th>\n",
       "      <td>Grand Theft Auto: San Andreas</td>\n",
       "      <td>PS2</td>\n",
       "      <td>2004</td>\n",
       "      <td>Action</td>\n",
       "      <td>9.43</td>\n",
       "      <td>0.40</td>\n",
       "      <td>0.41</td>\n",
       "      <td>10.57</td>\n",
       "      <td>95</td>\n",
       "      <td>9.0</td>\n",
       "      <td>M</td>\n",
       "      <td>20.81</td>\n",
       "    </tr>\n",
       "    <tr>\n",
       "      <th>18</th>\n",
       "      <td>Super Mario World</td>\n",
       "      <td>SNES</td>\n",
       "      <td>1990</td>\n",
       "      <td>Platform</td>\n",
       "      <td>12.78</td>\n",
       "      <td>3.75</td>\n",
       "      <td>3.54</td>\n",
       "      <td>0.55</td>\n",
       "      <td>-1</td>\n",
       "      <td>-1.0</td>\n",
       "      <td>N/A</td>\n",
       "      <td>20.62</td>\n",
       "    </tr>\n",
       "    <tr>\n",
       "      <th>19</th>\n",
       "      <td>Brain Age: Train Your Brain in Minutes a Day</td>\n",
       "      <td>DS</td>\n",
       "      <td>2005</td>\n",
       "      <td>Misc</td>\n",
       "      <td>4.74</td>\n",
       "      <td>9.20</td>\n",
       "      <td>4.16</td>\n",
       "      <td>2.04</td>\n",
       "      <td>77</td>\n",
       "      <td>7.9</td>\n",
       "      <td>E</td>\n",
       "      <td>20.14</td>\n",
       "    </tr>\n",
       "  </tbody>\n",
       "</table>\n",
       "</div>"
      ],
      "text/plain": [
       "                                            name platform  year_of_release  \\\n",
       "0                                     Wii Sports      Wii             2006   \n",
       "1                              Super Mario Bros.      NES             1985   \n",
       "2                                 Mario Kart Wii      Wii             2008   \n",
       "3                              Wii Sports Resort      Wii             2009   \n",
       "4                       Pokemon Red/Pokemon Blue       GB             1996   \n",
       "5                                         Tetris       GB             1989   \n",
       "6                          New Super Mario Bros.       DS             2006   \n",
       "7                                       Wii Play      Wii             2006   \n",
       "8                      New Super Mario Bros. Wii      Wii             2009   \n",
       "9                                      Duck Hunt      NES             1984   \n",
       "10                                    Nintendogs       DS             2005   \n",
       "11                                 Mario Kart DS       DS             2005   \n",
       "12                   Pokemon Gold/Pokemon Silver       GB             1999   \n",
       "13                                       Wii Fit      Wii             2007   \n",
       "14                            Kinect Adventures!     X360             2010   \n",
       "15                                  Wii Fit Plus      Wii             2009   \n",
       "16                            Grand Theft Auto V      PS3             2013   \n",
       "17                 Grand Theft Auto: San Andreas      PS2             2004   \n",
       "18                             Super Mario World     SNES             1990   \n",
       "19  Brain Age: Train Your Brain in Minutes a Day       DS             2005   \n",
       "\n",
       "           genre  na_sales  eu_sales  jp_sales  other_sales  critic_score  \\\n",
       "0         Sports     41.36     28.96      3.77         8.45            76   \n",
       "1       Platform     29.08      3.58      6.81         0.77            -1   \n",
       "2         Racing     15.68     12.76      3.79         3.29            82   \n",
       "3         Sports     15.61     10.93      3.28         2.95            80   \n",
       "4   Role-Playing     11.27      8.89     10.22         1.00            -1   \n",
       "5         Puzzle     23.20      2.26      4.22         0.58            -1   \n",
       "6       Platform     11.28      9.14      6.50         2.88            89   \n",
       "7           Misc     13.96      9.18      2.93         2.84            58   \n",
       "8       Platform     14.44      6.94      4.70         2.24            87   \n",
       "9        Shooter     26.93      0.63      0.28         0.47            -1   \n",
       "10    Simulation      9.05     10.95      1.93         2.74            -1   \n",
       "11        Racing      9.71      7.47      4.13         1.90            91   \n",
       "12  Role-Playing      9.00      6.18      7.20         0.71            -1   \n",
       "13        Sports      8.92      8.03      3.60         2.15            80   \n",
       "14          Misc     15.00      4.89      0.24         1.69            61   \n",
       "15        Sports      9.01      8.49      2.53         1.77            80   \n",
       "16        Action      7.02      9.09      0.98         3.96            97   \n",
       "17        Action      9.43      0.40      0.41        10.57            95   \n",
       "18      Platform     12.78      3.75      3.54         0.55            -1   \n",
       "19          Misc      4.74      9.20      4.16         2.04            77   \n",
       "\n",
       "    user_score rating  total_sales  \n",
       "0          8.0      E        82.54  \n",
       "1         -1.0    N/A        40.24  \n",
       "2          8.3      E        35.52  \n",
       "3          8.0      E        32.77  \n",
       "4         -1.0    N/A        31.38  \n",
       "5         -1.0    N/A        30.26  \n",
       "6          8.5      E        29.80  \n",
       "7          6.6      E        28.91  \n",
       "8          8.4      E        28.32  \n",
       "9         -1.0    N/A        28.31  \n",
       "10        -1.0    N/A        24.67  \n",
       "11         8.6      E        23.21  \n",
       "12        -1.0    N/A        23.09  \n",
       "13         7.7      E        22.70  \n",
       "14         6.3      E        21.82  \n",
       "15         7.4      E        21.80  \n",
       "16         8.2      M        21.05  \n",
       "17         9.0      M        20.81  \n",
       "18        -1.0    N/A        20.62  \n",
       "19         7.9      E        20.14  "
      ]
     },
     "execution_count": 49,
     "metadata": {},
     "output_type": "execute_result"
    }
   ],
   "source": [
    "video_games_df = data.assign(total_sales=data[[\"na_sales\", \"eu_sales\", \"jp_sales\", \"other_sales\"]].sum(axis=1))\n",
    "video_games_df.head(20)\n"
   ]
  },
  {
   "cell_type": "code",
   "execution_count": 50,
   "metadata": {},
   "outputs": [
    {
     "data": {
      "text/plain": [
       "0"
      ]
     },
     "execution_count": 50,
     "metadata": {},
     "output_type": "execute_result"
    }
   ],
   "source": [
    "data.duplicated().sum()"
   ]
  },
  {
   "cell_type": "markdown",
   "metadata": {},
   "source": [
    "# Data Analysis"
   ]
  },
  {
   "cell_type": "code",
   "execution_count": 52,
   "metadata": {},
   "outputs": [
    {
     "data": {
      "text/plain": [
       "Text(0, 0.5, 'Total Sales')"
      ]
     },
     "execution_count": 52,
     "metadata": {},
     "output_type": "execute_result"
    },
    {
     "data": {
      "image/png": "[encoded data removed]",
      "text/plain": [
       "<Figure size 1080x432 with 1 Axes>"
      ]
     },
     "metadata": {
      "needs_background": "light"
     },
     "output_type": "display_data"
    }
   ],
   "source": [
    "game_counts = data.groupby(\"year_of_release\").size()\n",
    "game_counts.plot(kind=\"bar\", figsize=(15,6))\n",
    "\n",
    "plt.title('Total Video Game Sales per Year')\n",
    "plt.xlabel('Year')\n",
    "plt.ylabel('Total Sales')"
   ]
  },
  {
   "cell_type": "markdown",
   "metadata": {},
   "source": [
    "How do you think the missing values could occur?\n",
    "\n",
    "The missing values most likely occured due to incomplete data entry, equipment malfunctions, lost files, and many other reasons."
   ]
  },
  {
   "cell_type": "markdown",
   "metadata": {},
   "source": [
    "This graph is representing video game sales by year. \n",
    "Between the years 2006-2011 it seems to be the largest increase of video game releases. \n",
    "Video game releases didn't start picking up until the early 90s"
   ]
  },
  {
   "cell_type": "code",
   "execution_count": 53,
   "metadata": {},
   "outputs": [
    {
     "data": {
      "text/plain": [
       "platform\n",
       "PS2     1255.77\n",
       "X360     971.42\n",
       "PS3      939.65\n",
       "Wii      907.51\n",
       "DS       806.12\n",
       "PS       730.86\n",
       "GBA      317.85\n",
       "PS4      314.14\n",
       "PSP      294.05\n",
       "PC       259.52\n",
       "3DS      259.00\n",
       "XB       257.74\n",
       "GB       255.46\n",
       "NES      251.05\n",
       "N64      218.68\n",
       "SNES     200.04\n",
       "GC       198.93\n",
       "XOne     159.32\n",
       "2600      96.98\n",
       "WiiU      82.19\n",
       "PSV       54.07\n",
       "SAT       33.59\n",
       "GEN       30.77\n",
       "DC        15.95\n",
       "SCD        1.86\n",
       "NG         1.44\n",
       "WS         1.42\n",
       "TG16       0.16\n",
       "3DO        0.10\n",
       "GG         0.04\n",
       "PCFX       0.03\n",
       "Name: total_sales, dtype: float64"
      ]
     },
     "execution_count": 53,
     "metadata": {},
     "output_type": "execute_result"
    }
   ],
   "source": [
    "platform_sales = video_games_df.groupby('platform')['total_sales'].sum().sort_values(ascending=False)\n",
    "platform_sales\n",
    "# Table for all platform sales "
   ]
  },
  {
   "cell_type": "code",
   "execution_count": 54,
   "metadata": {
    "scrolled": true
   },
   "outputs": [
    {
     "data": {
      "text/plain": [
       "Text(0, 0.5, 'Total Sales')"
      ]
     },
     "execution_count": 54,
     "metadata": {},
     "output_type": "execute_result"
    },
    {
     "data": {
      "image/png": "[encoded data removed]",
      "text/plain": [
       "<Figure size 720x288 with 1 Axes>"
      ]
     },
     "metadata": {
      "needs_background": "light"
     },
     "output_type": "display_data"
    }
   ],
   "source": [
    "platform_sales.plot(kind='bar', figsize=(10,4))\n",
    "\n",
    "plt.title('Total Sales Per Platform')\n",
    "plt.xlabel('Platform')\n",
    "plt.ylabel('Total Sales')"
   ]
  },
  {
   "cell_type": "markdown",
   "metadata": {},
   "source": [
    "Sony has had the more successful game systems based on sales (Playstation).\n",
    "Nintendos most successful system was the Wii.\n",
    "Microsoft Xbox360 has the most sales based on sales.\n",
    "The Playstation 2 still has more sales than the Playstation 3. Showing it's popularity even being much older compared to other systems."
   ]
  },
  {
   "cell_type": "code",
   "execution_count": 55,
   "metadata": {},
   "outputs": [
    {
     "name": "stdout",
     "output_type": "stream",
     "text": [
      "  platform  total_sales\n",
      "0      PS2      1255.77\n",
      "1     X360       971.42\n",
      "2      PS3       939.65\n",
      "3      Wii       907.51\n",
      "4       DS       806.12\n"
     ]
    },
    {
     "data": {
      "image/png": "[encoded data removed]",
      "text/plain": [
       "<Figure size 432x288 with 1 Axes>"
      ]
     },
     "metadata": {
      "needs_background": "light"
     },
     "output_type": "display_data"
    }
   ],
   "source": [
    "top_five_sales = platform_sales.head(5).reset_index()\n",
    "\n",
    "print(top_five_sales)\n",
    "\n",
    "sns.barplot(x=\"platform\", y=\"total_sales\", data=top_five_sales)\n",
    "plt.ylabel('Total Sales')\n",
    "plt.show()\n"
   ]
  },
  {
   "cell_type": "markdown",
   "metadata": {},
   "source": [
    "2 Sony products (PS2 and PS3), 1 Microsoft (Xbox360), 2 Nintendo (Wii and DS)"
   ]
  },
  {
   "cell_type": "markdown",
   "metadata": {},
   "source": [
    "Bar graph represents the top 5 platforms sales throughout the years 1985-2016.\n",
    "As the research states, sales did not start until 2000, and peaked right in the middle during 2008. \n",
    "Sales started decreasing in 2009 and saw their biggest drop of sales during the period of 2012 - 2016. \n",
    "The PS4 and Xbox One were released in 2013. These drop in sales could be from systems being out dated and players burnt out"
   ]
  },
  {
   "cell_type": "code",
   "execution_count": 56,
   "metadata": {},
   "outputs": [
    {
     "data": {
      "image/png": "[encoded data removed]",
      "text/plain": [
       "<Figure size 432x288 with 1 Axes>"
      ]
     },
     "metadata": {
      "needs_background": "light"
     },
     "output_type": "display_data"
    },
    {
     "name": "stdout",
     "output_type": "stream",
     "text": [
      "Index(['PS2', 'X360', 'PS3', 'Wii', 'DS'], dtype='object', name='platform')\n",
      "year_of_release\n",
      "-1        60.37\n",
      " 1985      0.02\n",
      " 2000     39.17\n",
      " 2001    166.43\n",
      " 2002    205.38\n",
      " 2003    184.31\n",
      " 2004    229.08\n",
      " 2005    299.05\n",
      " 2006    432.96\n",
      " 2007    544.30\n",
      " 2008    624.31\n",
      " 2009    604.13\n",
      " 2010    530.81\n",
      " 2011    386.90\n",
      " 2012    239.82\n",
      " 2013    211.96\n",
      " 2014     86.25\n",
      " 2015     29.92\n",
      " 2016      5.30\n",
      "Name: total_sales, dtype: float64\n"
     ]
    }
   ],
   "source": [
    "top_n_platforms = platform_sales.head(5).index\n",
    "\n",
    "top_n_data = video_games_df[video_games_df['platform'].isin(top_n_platforms)]\n",
    "\n",
    "grouped_top_n_data = top_n_data.groupby('year_of_release')\n",
    "\n",
    "sales_by_year = grouped_top_n_data['total_sales'].sum()\n",
    "\n",
    "sales_by_year.plot.bar()\n",
    "plt.title('Total Sales Per Year')\n",
    "plt.xlabel('Year of Release')\n",
    "plt.ylabel('Total Sales')\n",
    "\n",
    "plt.show()\n",
    "plt.show()\n",
    "\n",
    "print(top_n_platforms)\n",
    "print(sales_by_year)"
   ]
  },
  {
   "cell_type": "markdown",
   "metadata": {},
   "source": [
    "To look at popularity of system sales and their sales I have decided to cut down the data into the 3 more popular companies. \n",
    "Also decided to look at and compare the data for at-home devices instead of handheld devices like the Playstation Portable and Gameboy Advanced. Although, handheld devices will not be completely ignored and be compared later in the analysis. Sony for Playstation, Microsoft for Xbox, and Nintendo for their Wii and other electronics. "
   ]
  },
  {
   "cell_type": "code",
   "execution_count": 57,
   "metadata": {},
   "outputs": [
    {
     "name": "stdout",
     "output_type": "stream",
     "text": [
      "    platform  year_of_release  total_sales\n",
      "0       2600               -1        10.50\n",
      "1       2600             1980        11.38\n",
      "2       2600             1981        35.68\n",
      "3       2600             1982        28.88\n",
      "4       2600             1983         5.84\n",
      "..       ...              ...          ...\n",
      "249       XB             2008         0.18\n",
      "250     XOne             2013        18.96\n",
      "251     XOne             2014        54.07\n",
      "252     XOne             2015        60.14\n",
      "253     XOne             2016        26.15\n",
      "\n",
      "[254 rows x 3 columns]\n"
     ]
    },
    {
     "data": {
      "image/png": "[encoded data removed]",
      "text/plain": [
       "<Figure size 1080x360 with 1 Axes>"
      ]
     },
     "metadata": {
      "needs_background": "light"
     },
     "output_type": "display_data"
    }
   ],
   "source": [
    "popularity_df = video_games_df.groupby(['platform','year_of_release'])['total_sales'].sum().reset_index()\n",
    "\n",
    "print(popularity_df)\n",
    "\n",
    "platform_ps2 = popularity_df[popularity_df['platform'] == 'PS2']\n",
    "\n",
    "platform_ps3 = popularity_df[popularity_df['platform'] == 'PS3']\n",
    "\n",
    "platform_ps4= popularity_df[popularity_df['platform'] == 'PS4']\n",
    "\n",
    "handheld_df = pd.concat([platform_ps2, platform_ps3, platform_ps4], axis=0)\n",
    "\n",
    "plt.figure(figsize=(15, 5))\n",
    "\n",
    "sns.barplot(data=handheld_df, #dataset\n",
    "             x='year_of_release', #variable along the x-axis\n",
    "             y='total_sales', #variable along the y-axis (usually the thing you are actually measuring)\n",
    "            hue = 'platform' #the variable you want to group data by to compare (ex. gender, country, plan)\n",
    "        \n",
    "           )\n",
    "\n",
    "\n",
    "plt.title('Total Sales Per Sony Platform')\n",
    "plt.xlabel('Year')\n",
    "plt.ylabel('Total Sales')\n",
    "\n",
    "plt.show()"
   ]
  },
  {
   "cell_type": "markdown",
   "metadata": {},
   "source": [
    "Based on the Playstation systens, the PS2 was a very popular system. This could be due to being one of the first systems with graphical enhancements, and at the time Sony being the FIRST company releasing a new generation console. We can see how the release of 2006, continued to increase video game sales substantially. 2012 most liely dropped off due to the expected release of PS3 in 2013. We start to see the major drop off in 2014. This indicates more users possibly moving on to a new genration of systems. "
   ]
  },
  {
   "cell_type": "code",
   "execution_count": 58,
   "metadata": {},
   "outputs": [
    {
     "data": {
      "text/plain": [
       "Text(0, 0.5, 'Total Sales')"
      ]
     },
     "execution_count": 58,
     "metadata": {},
     "output_type": "execute_result"
    },
    {
     "data": {
      "image/png": "[encoded data removed]",
      "text/plain": [
       "<Figure size 1080x360 with 1 Axes>"
      ]
     },
     "metadata": {
      "needs_background": "light"
     },
     "output_type": "display_data"
    }
   ],
   "source": [
    "XB_sales = popularity_df[popularity_df['platform'] == 'XB']\n",
    "\n",
    "X360_sales = popularity_df[popularity_df['platform'] == 'X360']\n",
    "\n",
    "XOne_sales = popularity_df[popularity_df['platform'] == 'XOne']\n",
    "\n",
    "handheld_df = pd.concat([XB_sales, X360_sales, XOne_sales], axis=0)\n",
    "\n",
    "plt.figure(figsize=(15, 5))\n",
    "\n",
    "sns.barplot(data=handheld_df, #dataset\n",
    "             x='year_of_release', #variable along the x-axis\n",
    "             y='total_sales', #variable along the y-axis (usually the thing you are actually measuring)\n",
    "            hue = 'platform' #the variable you want to group data by to compare (ex. gender, country, plan)\n",
    "        \n",
    "           )\n",
    "\n",
    "\n",
    "plt.title('Total Sales Per Microsoft Platform')\n",
    "plt.xlabel('Year')\n",
    "plt.ylabel('Total Sales')"
   ]
  },
  {
   "cell_type": "markdown",
   "metadata": {},
   "source": [
    "Microsoft was not able to compete with Sony's systems until the release of the Xbox360. If you compare the PS2 to the Xbox, Playstaion's beat Xbox sales substantionally. Although, with the release of the Xbox360, Microsoft was able to compete based on numbers. This really showed Sony the competition they are now having to face. Unfortunately, when both the PS2 and Xbox360 died out, Sony took a lead again with the release of PS4. "
   ]
  },
  {
   "cell_type": "code",
   "execution_count": 59,
   "metadata": {},
   "outputs": [
    {
     "data": {
      "text/plain": [
       "Text(0, 0.5, 'Total Sales')"
      ]
     },
     "execution_count": 59,
     "metadata": {},
     "output_type": "execute_result"
    },
    {
     "data": {
      "image/png": "[encoded data removed]",
      "text/plain": [
       "<Figure size 432x288 with 1 Axes>"
      ]
     },
     "metadata": {
      "needs_background": "light"
     },
     "output_type": "display_data"
    }
   ],
   "source": [
    "Wii_sales = popularity_df[popularity_df['platform'] == 'Wii']\n",
    "\n",
    "Wii_U_sales = popularity_df[popularity_df['platform'] == 'WiiU']\n",
    "\n",
    "handheld_df = pd.concat([Wii_sales, Wii_U_sales], axis=0) \n",
    "\n",
    "sns.barplot(data=handheld_df, #dataset\n",
    "             x='year_of_release', #variable along the x-axis\n",
    "             y='total_sales', #variable along the y-axis (usually the thing you are actually measuring)\n",
    "            hue = 'platform' #the variable you want to group data by to compare (ex. gender, country, plan)\n",
    "        \n",
    "           )\n",
    "\n",
    "\n",
    "plt.title('Total Sales Per Nintendo Platform')\n",
    "plt.xlabel('Year')\n",
    "plt.ylabel('Total Sales')\n",
    "\n",
    "\n",
    "\n"
   ]
  },
  {
   "cell_type": "markdown",
   "metadata": {},
   "source": [
    "Nintendo, and their Wii consoles did great at the beggining when the first console was released. We see how quickly Nintendo's at home consoles dropped off in sales. Even when they introduced the Wii_U. the worst amount of sales compared to the rest of the systems showed in the bar graphs. I would say based on sales, the Wii was a great product, and the Wii U did not live out to expectations Nintendo fans were hoping for. "
   ]
  },
  {
   "cell_type": "code",
   "execution_count": 60,
   "metadata": {},
   "outputs": [
    {
     "data": {
      "image/png": "[encoded data removed]",
      "text/plain": [
       "<Figure size 1080x360 with 1 Axes>"
      ]
     },
     "metadata": {
      "needs_background": "light"
     },
     "output_type": "display_data"
    }
   ],
   "source": [
    "popularity_df = video_games_df.groupby(['platform','year_of_release'])['total_sales'].sum().reset_index()\n",
    "\n",
    "\n",
    "nin_ds = popularity_df[popularity_df['platform'] == 'DS']\n",
    "\n",
    "nin_gba = popularity_df[popularity_df['platform'] == 'GBA']\n",
    "\n",
    "nin_3ds = popularity_df[popularity_df['platform'] == '3DS']\n",
    "\n",
    "ps_psp = popularity_df[popularity_df['platform'] == 'PSP']\n",
    "\n",
    "ps_pv  = popularity_df[popularity_df['platform'] == 'PSV']\n",
    "\n",
    "ps_pc  = popularity_df[popularity_df['platform'] == 'PC']\n",
    "\n",
    "handheld_df = pd.concat([nin_gba,nin_ds, nin_3ds, ps_psp, ps_pv,ps_pc], axis=0)\n",
    "\n",
    "plt.figure(figsize=(15, 5))\n",
    "\n",
    "sns.barplot(data=handheld_df, #dataset\n",
    "             x='year_of_release', #variable along the x-axis\n",
    "             y='total_sales', #variable along the y-axis (usually the thing you are actually measuring)\n",
    "            hue = 'platform' #the variable you want to group data by to compare (ex. gender, country, plan)\n",
    "        \n",
    "           )\n",
    "\n",
    "\n",
    "plt.title('Total Sales Per Handheld Device')\n",
    "plt.xlabel('Year')\n",
    "plt.ylabel('Total Sales')\n",
    "\n",
    "plt.show()"
   ]
  },
  {
   "cell_type": "markdown",
   "metadata": {},
   "source": [
    "We can see how Ninendo's devices competed with portatable devices like the PSP and PSV. Nintendo seems to dominate the portable device market when it comes to video games. Sony has yet to release another portable device since the Playstation Vita and Microsoft has never created one to begin with. "
   ]
  },
  {
   "cell_type": "code",
   "execution_count": 61,
   "metadata": {
    "scrolled": true
   },
   "outputs": [
    {
     "data": {
      "image/png": "[encoded data removed]",
      "text/plain": [
       "<Figure size 1080x360 with 1 Axes>"
      ]
     },
     "metadata": {
      "needs_background": "light"
     },
     "output_type": "display_data"
    }
   ],
   "source": [
    "video_game_consoles = pd.concat([platform_ps2,platform_ps3,X360_sales,Wii_sales,nin_ds], axis=0)\n",
    "\n",
    "\n",
    "plt.figure(figsize=(15, 5))\n",
    "sns.barplot(data=video_game_consoles, \n",
    "             x='year_of_release', \n",
    "             y='total_sales', \n",
    "            hue = 'platform' \n",
    "        \n",
    "           )\n",
    "\n",
    "plt.title('Total Sales Per Top 5 Platforms')\n",
    "plt.xlabel('Year')\n",
    "plt.ylabel('Total Sales')\n",
    "\n",
    "plt.show()"
   ]
  },
  {
   "cell_type": "markdown",
   "metadata": {},
   "source": [
    "Graphical representation on how the top 5 platforms with sales compared to one another. We can see how Playstation has dominated the industry with their platforms since the start of the 2000s. Real competition did not introduce itself until the mid 2000s. "
   ]
  },
  {
   "cell_type": "markdown",
   "metadata": {},
   "source": [
    "# Analysis of Data Relevant to the 2017 Campaign"
   ]
  },
  {
   "cell_type": "code",
   "execution_count": 62,
   "metadata": {},
   "outputs": [
    {
     "data": {
      "image/png": "[encoded data removed]",
      "text/plain": [
       "<Figure size 1080x720 with 1 Axes>"
      ]
     },
     "metadata": {
      "needs_background": "light"
     },
     "output_type": "display_data"
    }
   ],
   "source": [
    "video_games_df_relevant = popularity_df.loc[( popularity_df['year_of_release'] >= 2013) & (popularity_df['year_of_release'] <= 2016)]\n",
    "\n",
    "plt.figure(figsize=(15, 10))\n",
    "plt.title('Console Sales 2013-2016')\n",
    "plt.ylabel('Year')\n",
    "plt.xlabel('Total Sales')\n",
    "\n",
    "sns.barplot(data=video_games_df_relevant, x='year_of_release', y='total_sales', hue='platform',\n",
    "            palette=[\"C0\", 'C1', 'C2', 'C3', 'C4', 'C5', 'C6', 'C7', 'C8', 'C9', 'C10', 'C11'])\n",
    "\n",
    "\n",
    "plt.show()"
   ]
  },
  {
   "cell_type": "markdown",
   "metadata": {},
   "source": [
    "The lifespan of a lot of the consoles are ranging from 8-10 years.\n",
    "\n",
    "The graph displays data from 2013 to 2016. This happens to be the most relevant data we have right now to estimate how 2017 is suppose to look like. We see older platforms dying down, and newer platforms starting to become popular within this period. "
   ]
  },
  {
   "cell_type": "code",
   "execution_count": 63,
   "metadata": {
    "scrolled": false
   },
   "outputs": [
    {
     "name": "stdout",
     "output_type": "stream",
     "text": [
      "                                name platform  year_of_release         genre  \\\n",
      "16                Grand Theft Auto V      PS3             2013        Action   \n",
      "23                Grand Theft Auto V     X360             2013        Action   \n",
      "31         Call of Duty: Black Ops 3      PS4             2015       Shooter   \n",
      "33               Pokemon X/Pokemon Y      3DS             2013  Role-Playing   \n",
      "42                Grand Theft Auto V      PS4             2014        Action   \n",
      "...                              ...      ...              ...           ...   \n",
      "16703               Strawberry Nauts      PSV             2016     Adventure   \n",
      "16707               Aiyoku no Eustia      PSV             2014          Misc   \n",
      "16710  Samurai Warriors: Sanada Maru      PS3             2016        Action   \n",
      "16712        Haitaka no Psychedelica      PSV             2016     Adventure   \n",
      "16714            Winning Post 8 2016      PSV             2016    Simulation   \n",
      "\n",
      "       na_sales  eu_sales  jp_sales  other_sales  critic_score  user_score  \\\n",
      "16         7.02      9.09      0.98         3.96            97         8.2   \n",
      "23         9.66      5.14      0.06         1.41            97         8.1   \n",
      "31         6.03      5.86      0.36         2.38            -1        -1.0   \n",
      "33         5.28      4.19      4.35         0.78            -1        -1.0   \n",
      "42         3.96      6.31      0.38         1.97            97         8.3   \n",
      "...         ...       ...       ...          ...           ...         ...   \n",
      "16703      0.00      0.00      0.01         0.00            -1        -1.0   \n",
      "16707      0.00      0.00      0.01         0.00            -1        -1.0   \n",
      "16710      0.00      0.00      0.01         0.00            -1        -1.0   \n",
      "16712      0.00      0.00      0.01         0.00            -1        -1.0   \n",
      "16714      0.00      0.00      0.01         0.00            -1        -1.0   \n",
      "\n",
      "      rating  total_sales  \n",
      "16         M        21.05  \n",
      "23         M        16.27  \n",
      "31       N/A        14.63  \n",
      "33       N/A        14.60  \n",
      "42         M        12.62  \n",
      "...      ...          ...  \n",
      "16703    N/A         0.01  \n",
      "16707    N/A         0.01  \n",
      "16710    N/A         0.01  \n",
      "16712    N/A         0.01  \n",
      "16714    N/A         0.01  \n",
      "\n",
      "[2233 rows x 12 columns]\n"
     ]
    },
    {
     "data": {
      "image/png": "[encoded data removed]",
      "text/plain": [
       "<Figure size 1080x720 with 1 Axes>"
      ]
     },
     "metadata": {
      "needs_background": "light"
     },
     "output_type": "display_data"
    }
   ],
   "source": [
    "time_period_slice = (video_games_df['year_of_release'] >= 2013) & (video_games_df['year_of_release'] <= 2016)\n",
    "video_games_df_relevant = video_games_df[time_period_slice]\n",
    "print(video_games_df_relevant)\n",
    "\n",
    "# Create a boxplot to display the distribution of sales for each platform\n",
    "plt.figure(figsize=(15, 10))\n",
    "sns.boxplot(x='platform', y='total_sales',data=video_games_df_relevant)\n",
    "plt.title('Console Sales 2013-2016')\n",
    "plt.xlabel('Device')\n",
    "plt.ylabel('Sales')\n",
    "plt.show()\n"
   ]
  },
  {
   "cell_type": "markdown",
   "metadata": {},
   "source": [
    "Outliers tell us that there are some games within the specified time period that have significantly higher or lower total sales than the majority of the games on the same platform. This could indicate that there were some games within the specified time period that performed exceptionally well or poorly, compared to others"
   ]
  },
  {
   "cell_type": "code",
   "execution_count": 64,
   "metadata": {
    "scrolled": false
   },
   "outputs": [
    {
     "data": {
      "text/html": [
       "<div>\n",
       "<style scoped>\n",
       "    .dataframe tbody tr th:only-of-type {\n",
       "        vertical-align: middle;\n",
       "    }\n",
       "\n",
       "    .dataframe tbody tr th {\n",
       "        vertical-align: top;\n",
       "    }\n",
       "\n",
       "    .dataframe thead th {\n",
       "        text-align: right;\n",
       "    }\n",
       "</style>\n",
       "<table border=\"1\" class=\"dataframe\">\n",
       "  <thead>\n",
       "    <tr style=\"text-align: right;\">\n",
       "      <th></th>\n",
       "      <th>name</th>\n",
       "      <th>platform</th>\n",
       "      <th>year_of_release</th>\n",
       "      <th>genre</th>\n",
       "      <th>na_sales</th>\n",
       "      <th>eu_sales</th>\n",
       "      <th>jp_sales</th>\n",
       "      <th>other_sales</th>\n",
       "      <th>critic_score</th>\n",
       "      <th>user_score</th>\n",
       "      <th>rating</th>\n",
       "      <th>total_sales</th>\n",
       "    </tr>\n",
       "  </thead>\n",
       "  <tbody>\n",
       "    <tr>\n",
       "      <th>31</th>\n",
       "      <td>Call of Duty: Black Ops 3</td>\n",
       "      <td>PS4</td>\n",
       "      <td>2015</td>\n",
       "      <td>Shooter</td>\n",
       "      <td>6.03</td>\n",
       "      <td>5.86</td>\n",
       "      <td>0.36</td>\n",
       "      <td>2.38</td>\n",
       "      <td>-1</td>\n",
       "      <td>-1.0</td>\n",
       "      <td>N/A</td>\n",
       "      <td>14.63</td>\n",
       "    </tr>\n",
       "    <tr>\n",
       "      <th>42</th>\n",
       "      <td>Grand Theft Auto V</td>\n",
       "      <td>PS4</td>\n",
       "      <td>2014</td>\n",
       "      <td>Action</td>\n",
       "      <td>3.96</td>\n",
       "      <td>6.31</td>\n",
       "      <td>0.38</td>\n",
       "      <td>1.97</td>\n",
       "      <td>97</td>\n",
       "      <td>8.3</td>\n",
       "      <td>M</td>\n",
       "      <td>12.62</td>\n",
       "    </tr>\n",
       "    <tr>\n",
       "      <th>77</th>\n",
       "      <td>FIFA 16</td>\n",
       "      <td>PS4</td>\n",
       "      <td>2015</td>\n",
       "      <td>Sports</td>\n",
       "      <td>1.12</td>\n",
       "      <td>6.12</td>\n",
       "      <td>0.06</td>\n",
       "      <td>1.28</td>\n",
       "      <td>82</td>\n",
       "      <td>4.3</td>\n",
       "      <td>E</td>\n",
       "      <td>8.58</td>\n",
       "    </tr>\n",
       "    <tr>\n",
       "      <th>87</th>\n",
       "      <td>Star Wars Battlefront (2015)</td>\n",
       "      <td>PS4</td>\n",
       "      <td>2015</td>\n",
       "      <td>Shooter</td>\n",
       "      <td>2.99</td>\n",
       "      <td>3.49</td>\n",
       "      <td>0.22</td>\n",
       "      <td>1.28</td>\n",
       "      <td>-1</td>\n",
       "      <td>-1.0</td>\n",
       "      <td>N/A</td>\n",
       "      <td>7.98</td>\n",
       "    </tr>\n",
       "    <tr>\n",
       "      <th>92</th>\n",
       "      <td>Call of Duty: Advanced Warfare</td>\n",
       "      <td>PS4</td>\n",
       "      <td>2014</td>\n",
       "      <td>Shooter</td>\n",
       "      <td>2.81</td>\n",
       "      <td>3.48</td>\n",
       "      <td>0.14</td>\n",
       "      <td>1.23</td>\n",
       "      <td>83</td>\n",
       "      <td>5.7</td>\n",
       "      <td>M</td>\n",
       "      <td>7.66</td>\n",
       "    </tr>\n",
       "    <tr>\n",
       "      <th>...</th>\n",
       "      <td>...</td>\n",
       "      <td>...</td>\n",
       "      <td>...</td>\n",
       "      <td>...</td>\n",
       "      <td>...</td>\n",
       "      <td>...</td>\n",
       "      <td>...</td>\n",
       "      <td>...</td>\n",
       "      <td>...</td>\n",
       "      <td>...</td>\n",
       "      <td>...</td>\n",
       "      <td>...</td>\n",
       "    </tr>\n",
       "    <tr>\n",
       "      <th>16500</th>\n",
       "      <td>Root Letter</td>\n",
       "      <td>PS4</td>\n",
       "      <td>2016</td>\n",
       "      <td>Adventure</td>\n",
       "      <td>0.00</td>\n",
       "      <td>0.00</td>\n",
       "      <td>0.01</td>\n",
       "      <td>0.00</td>\n",
       "      <td>69</td>\n",
       "      <td>7.5</td>\n",
       "      <td>N/A</td>\n",
       "      <td>0.01</td>\n",
       "    </tr>\n",
       "    <tr>\n",
       "      <th>16503</th>\n",
       "      <td>Shin Hayarigami 2</td>\n",
       "      <td>PS4</td>\n",
       "      <td>2016</td>\n",
       "      <td>Adventure</td>\n",
       "      <td>0.00</td>\n",
       "      <td>0.00</td>\n",
       "      <td>0.01</td>\n",
       "      <td>0.00</td>\n",
       "      <td>-1</td>\n",
       "      <td>-1.0</td>\n",
       "      <td>N/A</td>\n",
       "      <td>0.01</td>\n",
       "    </tr>\n",
       "    <tr>\n",
       "      <th>16526</th>\n",
       "      <td>Dungeons 2</td>\n",
       "      <td>PS4</td>\n",
       "      <td>2016</td>\n",
       "      <td>Role-Playing</td>\n",
       "      <td>0.01</td>\n",
       "      <td>0.00</td>\n",
       "      <td>0.00</td>\n",
       "      <td>0.00</td>\n",
       "      <td>61</td>\n",
       "      <td>7.9</td>\n",
       "      <td>T</td>\n",
       "      <td>0.01</td>\n",
       "    </tr>\n",
       "    <tr>\n",
       "      <th>16530</th>\n",
       "      <td>Carmageddon: Max Damage</td>\n",
       "      <td>PS4</td>\n",
       "      <td>2016</td>\n",
       "      <td>Action</td>\n",
       "      <td>0.01</td>\n",
       "      <td>0.00</td>\n",
       "      <td>0.00</td>\n",
       "      <td>0.00</td>\n",
       "      <td>51</td>\n",
       "      <td>5.5</td>\n",
       "      <td>M</td>\n",
       "      <td>0.01</td>\n",
       "    </tr>\n",
       "    <tr>\n",
       "      <th>16585</th>\n",
       "      <td>Farming 2017 - The Simulation</td>\n",
       "      <td>PS4</td>\n",
       "      <td>2016</td>\n",
       "      <td>Simulation</td>\n",
       "      <td>0.00</td>\n",
       "      <td>0.01</td>\n",
       "      <td>0.00</td>\n",
       "      <td>0.00</td>\n",
       "      <td>-1</td>\n",
       "      <td>-1.0</td>\n",
       "      <td>N/A</td>\n",
       "      <td>0.01</td>\n",
       "    </tr>\n",
       "  </tbody>\n",
       "</table>\n",
       "<p>392 rows × 12 columns</p>\n",
       "</div>"
      ],
      "text/plain": [
       "                                 name platform  year_of_release         genre  \\\n",
       "31          Call of Duty: Black Ops 3      PS4             2015       Shooter   \n",
       "42                 Grand Theft Auto V      PS4             2014        Action   \n",
       "77                            FIFA 16      PS4             2015        Sports   \n",
       "87       Star Wars Battlefront (2015)      PS4             2015       Shooter   \n",
       "92     Call of Duty: Advanced Warfare      PS4             2014       Shooter   \n",
       "...                               ...      ...              ...           ...   \n",
       "16500                     Root Letter      PS4             2016     Adventure   \n",
       "16503               Shin Hayarigami 2      PS4             2016     Adventure   \n",
       "16526                      Dungeons 2      PS4             2016  Role-Playing   \n",
       "16530         Carmageddon: Max Damage      PS4             2016        Action   \n",
       "16585   Farming 2017 - The Simulation      PS4             2016    Simulation   \n",
       "\n",
       "       na_sales  eu_sales  jp_sales  other_sales  critic_score  user_score  \\\n",
       "31         6.03      5.86      0.36         2.38            -1        -1.0   \n",
       "42         3.96      6.31      0.38         1.97            97         8.3   \n",
       "77         1.12      6.12      0.06         1.28            82         4.3   \n",
       "87         2.99      3.49      0.22         1.28            -1        -1.0   \n",
       "92         2.81      3.48      0.14         1.23            83         5.7   \n",
       "...         ...       ...       ...          ...           ...         ...   \n",
       "16500      0.00      0.00      0.01         0.00            69         7.5   \n",
       "16503      0.00      0.00      0.01         0.00            -1        -1.0   \n",
       "16526      0.01      0.00      0.00         0.00            61         7.9   \n",
       "16530      0.01      0.00      0.00         0.00            51         5.5   \n",
       "16585      0.00      0.01      0.00         0.00            -1        -1.0   \n",
       "\n",
       "      rating  total_sales  \n",
       "31       N/A        14.63  \n",
       "42         M        12.62  \n",
       "77         E         8.58  \n",
       "87       N/A         7.98  \n",
       "92         M         7.66  \n",
       "...      ...          ...  \n",
       "16500    N/A         0.01  \n",
       "16503    N/A         0.01  \n",
       "16526      T         0.01  \n",
       "16530      M         0.01  \n",
       "16585    N/A         0.01  \n",
       "\n",
       "[392 rows x 12 columns]"
      ]
     },
     "execution_count": 64,
     "metadata": {},
     "output_type": "execute_result"
    }
   ],
   "source": [
    "video_games_df_relevant[video_games_df_relevant['platform']=='PS4']"
   ]
  },
  {
   "cell_type": "code",
   "execution_count": 65,
   "metadata": {},
   "outputs": [
    {
     "data": {
      "text/html": [
       "<div>\n",
       "<style scoped>\n",
       "    .dataframe tbody tr th:only-of-type {\n",
       "        vertical-align: middle;\n",
       "    }\n",
       "\n",
       "    .dataframe tbody tr th {\n",
       "        vertical-align: top;\n",
       "    }\n",
       "\n",
       "    .dataframe thead th {\n",
       "        text-align: right;\n",
       "    }\n",
       "</style>\n",
       "<table border=\"1\" class=\"dataframe\">\n",
       "  <thead>\n",
       "    <tr style=\"text-align: right;\">\n",
       "      <th></th>\n",
       "      <th>name</th>\n",
       "      <th>platform</th>\n",
       "      <th>year_of_release</th>\n",
       "      <th>genre</th>\n",
       "      <th>na_sales</th>\n",
       "      <th>eu_sales</th>\n",
       "      <th>jp_sales</th>\n",
       "      <th>other_sales</th>\n",
       "      <th>critic_score</th>\n",
       "      <th>user_score</th>\n",
       "      <th>rating</th>\n",
       "      <th>total_sales</th>\n",
       "    </tr>\n",
       "  </thead>\n",
       "  <tbody>\n",
       "    <tr>\n",
       "      <th>99</th>\n",
       "      <td>Call of Duty: Black Ops 3</td>\n",
       "      <td>XOne</td>\n",
       "      <td>2015</td>\n",
       "      <td>Shooter</td>\n",
       "      <td>4.59</td>\n",
       "      <td>2.11</td>\n",
       "      <td>0.01</td>\n",
       "      <td>0.68</td>\n",
       "      <td>-1</td>\n",
       "      <td>-1.0</td>\n",
       "      <td>N/A</td>\n",
       "      <td>7.39</td>\n",
       "    </tr>\n",
       "    <tr>\n",
       "      <th>165</th>\n",
       "      <td>Grand Theft Auto V</td>\n",
       "      <td>XOne</td>\n",
       "      <td>2014</td>\n",
       "      <td>Action</td>\n",
       "      <td>2.81</td>\n",
       "      <td>2.19</td>\n",
       "      <td>0.00</td>\n",
       "      <td>0.47</td>\n",
       "      <td>97</td>\n",
       "      <td>7.9</td>\n",
       "      <td>M</td>\n",
       "      <td>5.47</td>\n",
       "    </tr>\n",
       "    <tr>\n",
       "      <th>179</th>\n",
       "      <td>Call of Duty: Advanced Warfare</td>\n",
       "      <td>XOne</td>\n",
       "      <td>2014</td>\n",
       "      <td>Shooter</td>\n",
       "      <td>3.22</td>\n",
       "      <td>1.55</td>\n",
       "      <td>0.01</td>\n",
       "      <td>0.48</td>\n",
       "      <td>81</td>\n",
       "      <td>5.4</td>\n",
       "      <td>M</td>\n",
       "      <td>5.26</td>\n",
       "    </tr>\n",
       "    <tr>\n",
       "      <th>242</th>\n",
       "      <td>Halo 5: Guardians</td>\n",
       "      <td>XOne</td>\n",
       "      <td>2015</td>\n",
       "      <td>Shooter</td>\n",
       "      <td>2.78</td>\n",
       "      <td>1.27</td>\n",
       "      <td>0.03</td>\n",
       "      <td>0.41</td>\n",
       "      <td>84</td>\n",
       "      <td>6.4</td>\n",
       "      <td>T</td>\n",
       "      <td>4.49</td>\n",
       "    </tr>\n",
       "    <tr>\n",
       "      <th>270</th>\n",
       "      <td>Fallout 4</td>\n",
       "      <td>XOne</td>\n",
       "      <td>2015</td>\n",
       "      <td>Role-Playing</td>\n",
       "      <td>2.51</td>\n",
       "      <td>1.32</td>\n",
       "      <td>0.01</td>\n",
       "      <td>0.38</td>\n",
       "      <td>88</td>\n",
       "      <td>6.2</td>\n",
       "      <td>M</td>\n",
       "      <td>4.22</td>\n",
       "    </tr>\n",
       "    <tr>\n",
       "      <th>...</th>\n",
       "      <td>...</td>\n",
       "      <td>...</td>\n",
       "      <td>...</td>\n",
       "      <td>...</td>\n",
       "      <td>...</td>\n",
       "      <td>...</td>\n",
       "      <td>...</td>\n",
       "      <td>...</td>\n",
       "      <td>...</td>\n",
       "      <td>...</td>\n",
       "      <td>...</td>\n",
       "      <td>...</td>\n",
       "    </tr>\n",
       "    <tr>\n",
       "      <th>16630</th>\n",
       "      <td>Sébastien Loeb Rally Evo</td>\n",
       "      <td>XOne</td>\n",
       "      <td>2016</td>\n",
       "      <td>Racing</td>\n",
       "      <td>0.00</td>\n",
       "      <td>0.01</td>\n",
       "      <td>0.00</td>\n",
       "      <td>0.00</td>\n",
       "      <td>63</td>\n",
       "      <td>8.2</td>\n",
       "      <td>E</td>\n",
       "      <td>0.01</td>\n",
       "    </tr>\n",
       "    <tr>\n",
       "      <th>16643</th>\n",
       "      <td>Rugby Challenge 3</td>\n",
       "      <td>XOne</td>\n",
       "      <td>2016</td>\n",
       "      <td>Sports</td>\n",
       "      <td>0.00</td>\n",
       "      <td>0.01</td>\n",
       "      <td>0.00</td>\n",
       "      <td>0.00</td>\n",
       "      <td>-1</td>\n",
       "      <td>6.6</td>\n",
       "      <td>E</td>\n",
       "      <td>0.01</td>\n",
       "    </tr>\n",
       "    <tr>\n",
       "      <th>16645</th>\n",
       "      <td>ZombiU</td>\n",
       "      <td>XOne</td>\n",
       "      <td>2016</td>\n",
       "      <td>Action</td>\n",
       "      <td>0.00</td>\n",
       "      <td>0.01</td>\n",
       "      <td>0.00</td>\n",
       "      <td>0.00</td>\n",
       "      <td>-1</td>\n",
       "      <td>-1.0</td>\n",
       "      <td>N/A</td>\n",
       "      <td>0.01</td>\n",
       "    </tr>\n",
       "    <tr>\n",
       "      <th>16660</th>\n",
       "      <td>Prison Architect</td>\n",
       "      <td>XOne</td>\n",
       "      <td>2016</td>\n",
       "      <td>Action</td>\n",
       "      <td>0.01</td>\n",
       "      <td>0.00</td>\n",
       "      <td>0.00</td>\n",
       "      <td>0.00</td>\n",
       "      <td>74</td>\n",
       "      <td>6.7</td>\n",
       "      <td>N/A</td>\n",
       "      <td>0.01</td>\n",
       "    </tr>\n",
       "    <tr>\n",
       "      <th>16672</th>\n",
       "      <td>Metal Gear Solid V: The Definitive Experience</td>\n",
       "      <td>XOne</td>\n",
       "      <td>2016</td>\n",
       "      <td>Action</td>\n",
       "      <td>0.01</td>\n",
       "      <td>0.00</td>\n",
       "      <td>0.00</td>\n",
       "      <td>0.00</td>\n",
       "      <td>-1</td>\n",
       "      <td>-1.0</td>\n",
       "      <td>M</td>\n",
       "      <td>0.01</td>\n",
       "    </tr>\n",
       "  </tbody>\n",
       "</table>\n",
       "<p>247 rows × 12 columns</p>\n",
       "</div>"
      ],
      "text/plain": [
       "                                                name platform  \\\n",
       "99                         Call of Duty: Black Ops 3     XOne   \n",
       "165                               Grand Theft Auto V     XOne   \n",
       "179                   Call of Duty: Advanced Warfare     XOne   \n",
       "242                                Halo 5: Guardians     XOne   \n",
       "270                                        Fallout 4     XOne   \n",
       "...                                              ...      ...   \n",
       "16630                       Sébastien Loeb Rally Evo     XOne   \n",
       "16643                              Rugby Challenge 3     XOne   \n",
       "16645                                         ZombiU     XOne   \n",
       "16660                               Prison Architect     XOne   \n",
       "16672  Metal Gear Solid V: The Definitive Experience     XOne   \n",
       "\n",
       "       year_of_release         genre  na_sales  eu_sales  jp_sales  \\\n",
       "99                2015       Shooter      4.59      2.11      0.01   \n",
       "165               2014        Action      2.81      2.19      0.00   \n",
       "179               2014       Shooter      3.22      1.55      0.01   \n",
       "242               2015       Shooter      2.78      1.27      0.03   \n",
       "270               2015  Role-Playing      2.51      1.32      0.01   \n",
       "...                ...           ...       ...       ...       ...   \n",
       "16630             2016        Racing      0.00      0.01      0.00   \n",
       "16643             2016        Sports      0.00      0.01      0.00   \n",
       "16645             2016        Action      0.00      0.01      0.00   \n",
       "16660             2016        Action      0.01      0.00      0.00   \n",
       "16672             2016        Action      0.01      0.00      0.00   \n",
       "\n",
       "       other_sales  critic_score  user_score rating  total_sales  \n",
       "99            0.68            -1        -1.0    N/A         7.39  \n",
       "165           0.47            97         7.9      M         5.47  \n",
       "179           0.48            81         5.4      M         5.26  \n",
       "242           0.41            84         6.4      T         4.49  \n",
       "270           0.38            88         6.2      M         4.22  \n",
       "...            ...           ...         ...    ...          ...  \n",
       "16630         0.00            63         8.2      E         0.01  \n",
       "16643         0.00            -1         6.6      E         0.01  \n",
       "16645         0.00            -1        -1.0    N/A         0.01  \n",
       "16660         0.00            74         6.7    N/A         0.01  \n",
       "16672         0.00            -1        -1.0      M         0.01  \n",
       "\n",
       "[247 rows x 12 columns]"
      ]
     },
     "execution_count": 65,
     "metadata": {},
     "output_type": "execute_result"
    }
   ],
   "source": [
    "video_games_df_relevant[video_games_df_relevant['platform']=='XOne']\n"
   ]
  },
  {
   "cell_type": "code",
   "execution_count": 66,
   "metadata": {},
   "outputs": [
    {
     "data": {
      "text/html": [
       "<div>\n",
       "<style scoped>\n",
       "    .dataframe tbody tr th:only-of-type {\n",
       "        vertical-align: middle;\n",
       "    }\n",
       "\n",
       "    .dataframe tbody tr th {\n",
       "        vertical-align: top;\n",
       "    }\n",
       "\n",
       "    .dataframe thead th {\n",
       "        text-align: right;\n",
       "    }\n",
       "</style>\n",
       "<table border=\"1\" class=\"dataframe\">\n",
       "  <thead>\n",
       "    <tr style=\"text-align: right;\">\n",
       "      <th></th>\n",
       "      <th>name</th>\n",
       "      <th>platform</th>\n",
       "      <th>year_of_release</th>\n",
       "      <th>genre</th>\n",
       "      <th>na_sales</th>\n",
       "      <th>eu_sales</th>\n",
       "      <th>jp_sales</th>\n",
       "      <th>other_sales</th>\n",
       "      <th>critic_score</th>\n",
       "      <th>user_score</th>\n",
       "      <th>rating</th>\n",
       "      <th>total_sales</th>\n",
       "    </tr>\n",
       "  </thead>\n",
       "  <tbody>\n",
       "    <tr>\n",
       "      <th>33</th>\n",
       "      <td>Pokemon X/Pokemon Y</td>\n",
       "      <td>3DS</td>\n",
       "      <td>2013</td>\n",
       "      <td>Role-Playing</td>\n",
       "      <td>5.28</td>\n",
       "      <td>4.19</td>\n",
       "      <td>4.35</td>\n",
       "      <td>0.78</td>\n",
       "      <td>-1</td>\n",
       "      <td>-1.0</td>\n",
       "      <td>N/A</td>\n",
       "      <td>14.60</td>\n",
       "    </tr>\n",
       "    <tr>\n",
       "      <th>47</th>\n",
       "      <td>Pokemon Omega Ruby/Pokemon Alpha Sapphire</td>\n",
       "      <td>3DS</td>\n",
       "      <td>2014</td>\n",
       "      <td>Role-Playing</td>\n",
       "      <td>4.35</td>\n",
       "      <td>3.49</td>\n",
       "      <td>3.10</td>\n",
       "      <td>0.74</td>\n",
       "      <td>-1</td>\n",
       "      <td>-1.0</td>\n",
       "      <td>N/A</td>\n",
       "      <td>11.68</td>\n",
       "    </tr>\n",
       "    <tr>\n",
       "      <th>96</th>\n",
       "      <td>Super Smash Bros. for Wii U and 3DS</td>\n",
       "      <td>3DS</td>\n",
       "      <td>2014</td>\n",
       "      <td>Fighting</td>\n",
       "      <td>3.27</td>\n",
       "      <td>1.37</td>\n",
       "      <td>2.43</td>\n",
       "      <td>0.48</td>\n",
       "      <td>-1</td>\n",
       "      <td>-1.0</td>\n",
       "      <td>N/A</td>\n",
       "      <td>7.55</td>\n",
       "    </tr>\n",
       "    <tr>\n",
       "      <th>108</th>\n",
       "      <td>Pokemon Sun/Moon</td>\n",
       "      <td>3DS</td>\n",
       "      <td>2016</td>\n",
       "      <td>Role-Playing</td>\n",
       "      <td>2.98</td>\n",
       "      <td>1.45</td>\n",
       "      <td>2.26</td>\n",
       "      <td>0.45</td>\n",
       "      <td>-1</td>\n",
       "      <td>-1.0</td>\n",
       "      <td>N/A</td>\n",
       "      <td>7.14</td>\n",
       "    </tr>\n",
       "    <tr>\n",
       "      <th>184</th>\n",
       "      <td>Tomodachi Life</td>\n",
       "      <td>3DS</td>\n",
       "      <td>2013</td>\n",
       "      <td>Simulation</td>\n",
       "      <td>0.97</td>\n",
       "      <td>2.11</td>\n",
       "      <td>1.90</td>\n",
       "      <td>0.24</td>\n",
       "      <td>-1</td>\n",
       "      <td>-1.0</td>\n",
       "      <td>N/A</td>\n",
       "      <td>5.22</td>\n",
       "    </tr>\n",
       "    <tr>\n",
       "      <th>...</th>\n",
       "      <td>...</td>\n",
       "      <td>...</td>\n",
       "      <td>...</td>\n",
       "      <td>...</td>\n",
       "      <td>...</td>\n",
       "      <td>...</td>\n",
       "      <td>...</td>\n",
       "      <td>...</td>\n",
       "      <td>...</td>\n",
       "      <td>...</td>\n",
       "      <td>...</td>\n",
       "      <td>...</td>\n",
       "    </tr>\n",
       "    <tr>\n",
       "      <th>16608</th>\n",
       "      <td>Mario &amp; Luigi: Paper Jam &amp; Mario Kart 7 Double...</td>\n",
       "      <td>3DS</td>\n",
       "      <td>2015</td>\n",
       "      <td>Misc</td>\n",
       "      <td>0.00</td>\n",
       "      <td>0.00</td>\n",
       "      <td>0.01</td>\n",
       "      <td>0.00</td>\n",
       "      <td>-1</td>\n",
       "      <td>-1.0</td>\n",
       "      <td>N/A</td>\n",
       "      <td>0.01</td>\n",
       "    </tr>\n",
       "    <tr>\n",
       "      <th>16610</th>\n",
       "      <td>Kiniro no Corda 3</td>\n",
       "      <td>3DS</td>\n",
       "      <td>2015</td>\n",
       "      <td>Adventure</td>\n",
       "      <td>0.00</td>\n",
       "      <td>0.00</td>\n",
       "      <td>0.01</td>\n",
       "      <td>0.00</td>\n",
       "      <td>-1</td>\n",
       "      <td>-1.0</td>\n",
       "      <td>N/A</td>\n",
       "      <td>0.01</td>\n",
       "    </tr>\n",
       "    <tr>\n",
       "      <th>16648</th>\n",
       "      <td>Mushi Bugyou</td>\n",
       "      <td>3DS</td>\n",
       "      <td>2013</td>\n",
       "      <td>Action</td>\n",
       "      <td>0.00</td>\n",
       "      <td>0.00</td>\n",
       "      <td>0.01</td>\n",
       "      <td>0.00</td>\n",
       "      <td>-1</td>\n",
       "      <td>-1.0</td>\n",
       "      <td>N/A</td>\n",
       "      <td>0.01</td>\n",
       "    </tr>\n",
       "    <tr>\n",
       "      <th>16668</th>\n",
       "      <td>Fujiko F. Fujio Characters: Great Assembly! Sl...</td>\n",
       "      <td>3DS</td>\n",
       "      <td>2014</td>\n",
       "      <td>Action</td>\n",
       "      <td>0.00</td>\n",
       "      <td>0.00</td>\n",
       "      <td>0.01</td>\n",
       "      <td>0.00</td>\n",
       "      <td>-1</td>\n",
       "      <td>-1.0</td>\n",
       "      <td>N/A</td>\n",
       "      <td>0.01</td>\n",
       "    </tr>\n",
       "    <tr>\n",
       "      <th>16677</th>\n",
       "      <td>Aikatsu Stars! My Special Appeal</td>\n",
       "      <td>3DS</td>\n",
       "      <td>2016</td>\n",
       "      <td>Action</td>\n",
       "      <td>0.00</td>\n",
       "      <td>0.00</td>\n",
       "      <td>0.01</td>\n",
       "      <td>0.00</td>\n",
       "      <td>-1</td>\n",
       "      <td>-1.0</td>\n",
       "      <td>N/A</td>\n",
       "      <td>0.01</td>\n",
       "    </tr>\n",
       "  </tbody>\n",
       "</table>\n",
       "<p>303 rows × 12 columns</p>\n",
       "</div>"
      ],
      "text/plain": [
       "                                                    name platform  \\\n",
       "33                                   Pokemon X/Pokemon Y      3DS   \n",
       "47             Pokemon Omega Ruby/Pokemon Alpha Sapphire      3DS   \n",
       "96                   Super Smash Bros. for Wii U and 3DS      3DS   \n",
       "108                                     Pokemon Sun/Moon      3DS   \n",
       "184                                       Tomodachi Life      3DS   \n",
       "...                                                  ...      ...   \n",
       "16608  Mario & Luigi: Paper Jam & Mario Kart 7 Double...      3DS   \n",
       "16610                                  Kiniro no Corda 3      3DS   \n",
       "16648                                       Mushi Bugyou      3DS   \n",
       "16668  Fujiko F. Fujio Characters: Great Assembly! Sl...      3DS   \n",
       "16677                   Aikatsu Stars! My Special Appeal      3DS   \n",
       "\n",
       "       year_of_release         genre  na_sales  eu_sales  jp_sales  \\\n",
       "33                2013  Role-Playing      5.28      4.19      4.35   \n",
       "47                2014  Role-Playing      4.35      3.49      3.10   \n",
       "96                2014      Fighting      3.27      1.37      2.43   \n",
       "108               2016  Role-Playing      2.98      1.45      2.26   \n",
       "184               2013    Simulation      0.97      2.11      1.90   \n",
       "...                ...           ...       ...       ...       ...   \n",
       "16608             2015          Misc      0.00      0.00      0.01   \n",
       "16610             2015     Adventure      0.00      0.00      0.01   \n",
       "16648             2013        Action      0.00      0.00      0.01   \n",
       "16668             2014        Action      0.00      0.00      0.01   \n",
       "16677             2016        Action      0.00      0.00      0.01   \n",
       "\n",
       "       other_sales  critic_score  user_score rating  total_sales  \n",
       "33            0.78            -1        -1.0    N/A        14.60  \n",
       "47            0.74            -1        -1.0    N/A        11.68  \n",
       "96            0.48            -1        -1.0    N/A         7.55  \n",
       "108           0.45            -1        -1.0    N/A         7.14  \n",
       "184           0.24            -1        -1.0    N/A         5.22  \n",
       "...            ...           ...         ...    ...          ...  \n",
       "16608         0.00            -1        -1.0    N/A         0.01  \n",
       "16610         0.00            -1        -1.0    N/A         0.01  \n",
       "16648         0.00            -1        -1.0    N/A         0.01  \n",
       "16668         0.00            -1        -1.0    N/A         0.01  \n",
       "16677         0.00            -1        -1.0    N/A         0.01  \n",
       "\n",
       "[303 rows x 12 columns]"
      ]
     },
     "execution_count": 66,
     "metadata": {},
     "output_type": "execute_result"
    }
   ],
   "source": [
    "video_games_df_relevant[video_games_df_relevant['platform']=='3DS']"
   ]
  },
  {
   "cell_type": "code",
   "execution_count": 67,
   "metadata": {},
   "outputs": [
    {
     "data": {
      "text/plain": [
       "Text(0, 0.5, 'Sales')"
      ]
     },
     "execution_count": 67,
     "metadata": {},
     "output_type": "execute_result"
    },
    {
     "data": {
      "image/png": "[encoded data removed]",
      "text/plain": [
       "<Figure size 1080x720 with 1 Axes>"
      ]
     },
     "metadata": {
      "needs_background": "light"
     },
     "output_type": "display_data"
    }
   ],
   "source": [
    "video_games_df_relevant.reset_index()\n",
    "plt.figure(figsize=(15, 10))\n",
    "sns.boxplot(x='platform', y='total_sales',data=video_games_df_relevant,order=['PS4','XOne','3DS'])\n",
    "plt.title('Top 3 Platforms between 2013-2016')\n",
    "plt.xlabel('Console')\n",
    "plt.ylabel('Sales')"
   ]
  },
  {
   "cell_type": "markdown",
   "metadata": {},
   "source": [
    "Above we see how the PS4, Xbox One, and 3DS is compared based on video games. \n",
    "\n",
    "These platforms are still growing since the only data we have relevant is between 2013(release year) and 2016. \n",
    "\n",
    "We also see how the median, upper and lower quartile are low. There are plenty of outliers in these platforms, but they have only been around for 3-4 years so far. "
   ]
  },
  {
   "cell_type": "code",
   "execution_count": 68,
   "metadata": {
    "scrolled": true
   },
   "outputs": [
    {
     "data": {
      "text/plain": [
       "Text(0.5, 1.0, 'Average Sales Globally')"
      ]
     },
     "execution_count": 68,
     "metadata": {},
     "output_type": "execute_result"
    },
    {
     "data": {
      "image/png": "[encoded data removed]",
      "text/plain": [
       "<Figure size 360x360 with 1 Axes>"
      ]
     },
     "metadata": {
      "needs_background": "light"
     },
     "output_type": "display_data"
    }
   ],
   "source": [
    "average_sales = video_games_df.groupby('platform')['total_sales'].sum()\n",
    "average_sales.plot(kind='box', figsize=(5,5))\n",
    "\n",
    "plt.title('Average Sales Globally')\n"
   ]
  },
  {
   "cell_type": "markdown",
   "metadata": {},
   "source": [
    "Total sales globally represented by a box plot. The outsiders being within the top 5 consoleS "
   ]
  },
  {
   "cell_type": "code",
   "execution_count": 69,
   "metadata": {},
   "outputs": [
    {
     "name": "stdout",
     "output_type": "stream",
     "text": [
      "platform\n",
      "2600    0.729173\n",
      "3DO     0.033333\n",
      "3DS     0.498077\n",
      "DC      0.306731\n",
      "DS      0.374765\n",
      "GB      2.606735\n",
      "GBA     0.386679\n",
      "GC      0.357788\n",
      "GEN     1.061034\n",
      "GG      0.040000\n",
      "N64     0.685517\n",
      "NES     2.561735\n",
      "NG      0.120000\n",
      "PC      0.266448\n",
      "PCFX    0.030000\n",
      "PS      0.610576\n",
      "PS2     0.581106\n",
      "PS3     0.705973\n",
      "PS4     0.801378\n",
      "PSP     0.243218\n",
      "PSV     0.125744\n",
      "SAT     0.194162\n",
      "SCD     0.310000\n",
      "SNES    0.836987\n",
      "TG16    0.080000\n",
      "WS      0.236667\n",
      "Wii     0.687508\n",
      "WiiU    0.559116\n",
      "X360    0.769746\n",
      "XB      0.312791\n",
      "XOne    0.645020\n",
      "Name: total_sales, dtype: float64\n",
      "\n",
      "platform\n",
      "3DS     0.472772\n",
      "DS      0.192500\n",
      "PC      0.208624\n",
      "PS3     0.525884\n",
      "PS4     0.801378\n",
      "PSP     0.052239\n",
      "PSV     0.092151\n",
      "Wii     0.593913\n",
      "WiiU    0.562000\n",
      "X360    0.735484\n",
      "XOne    0.645020\n",
      "Name: total_sales, dtype: float64\n"
     ]
    }
   ],
   "source": [
    "average_sales = video_games_df.groupby('platform')['total_sales'].mean()\n",
    "print(average_sales)\n",
    "print()\n",
    "average_sales_relevance = video_games_df_relevant.groupby('platform')['total_sales'].mean()\n",
    "print(average_sales_relevance)"
   ]
  },
  {
   "cell_type": "markdown",
   "metadata": {},
   "source": [
    "Average sales for 1985-2016 and relevant data 2013-2016"
   ]
  },
  {
   "cell_type": "code",
   "execution_count": 70,
   "metadata": {},
   "outputs": [
    {
     "data": {
      "image/png": "[encoded data removed]",
      "text/plain": [
       "<Figure size 432x288 with 1 Axes>"
      ]
     },
     "metadata": {
      "needs_background": "light"
     },
     "output_type": "display_data"
    },
    {
     "name": "stdout",
     "output_type": "stream",
     "text": [
      "0.3570566142288098\n"
     ]
    }
   ],
   "source": [
    "platform_df= video_games_df_relevant[video_games_df_relevant['platform'] == '3DS']\n",
    "platform_df = platform_df[platform_df['critic_score'] != -1]\n",
    "# Create a scatter plot of the user and professional reviews vs. sales\n",
    "plt.scatter(platform_df['critic_score'], platform_df['total_sales'])\n",
    "\n",
    "# Add a legend\n",
    "plt.legend(['Professional Reviews for 3DS'])\n",
    "\n",
    "# Add axis labels and a title\n",
    "plt.xlabel('Review Score')\n",
    "plt.ylabel('Sales (Millions)')\n",
    "plt.title('Critic Reviews vs. Sales for 3DS Games')\n",
    "\n",
    "# Show the plot\n",
    "plt.show()\n",
    "r = platform_df.corr()['critic_score']['total_sales']\n",
    "print(r)\n"
   ]
  },
  {
   "cell_type": "code",
   "execution_count": 71,
   "metadata": {},
   "outputs": [
    {
     "data": {
      "image/png": "[encoded data removed]",
      "text/plain": [
       "<Figure size 432x288 with 1 Axes>"
      ]
     },
     "metadata": {
      "needs_background": "light"
     },
     "output_type": "display_data"
    },
    {
     "name": "stdout",
     "output_type": "stream",
     "text": [
      "0.24150411773562974\n"
     ]
    }
   ],
   "source": [
    "platform_df= video_games_df_relevant[video_games_df_relevant['platform'] == '3DS']\n",
    "platform_df = platform_df[platform_df['user_score'] != -1]\n",
    "# Create a scatter plot of the user and professional reviews vs. sales\n",
    "plt.scatter(platform_df['user_score'], platform_df['total_sales'])\n",
    "\n",
    "# Add a legend\n",
    "plt.legend(['Professional Reviews for 3DS'])\n",
    "\n",
    "# Add axis labels and a title\n",
    "plt.xlabel('Review Score')\n",
    "plt.ylabel('Sales (Millions)')\n",
    "plt.title('User Reviews vs. Sales for 3DS Games')\n",
    "\n",
    "# Show the plot\n",
    "plt.show()\n",
    "r = platform_df.corr()['user_score']['total_sales']\n",
    "print(r)"
   ]
  },
  {
   "cell_type": "code",
   "execution_count": 72,
   "metadata": {},
   "outputs": [
    {
     "data": {
      "image/png": "[encoded data removed]",
      "text/plain": [
       "<Figure size 432x288 with 1 Axes>"
      ]
     },
     "metadata": {
      "needs_background": "light"
     },
     "output_type": "display_data"
    },
    {
     "name": "stdout",
     "output_type": "stream",
     "text": [
      "0.40656790206178123\n"
     ]
    }
   ],
   "source": [
    "# Select the data for the platform you want to analyze\n",
    "platform_df = video_games_df_relevant[video_games_df_relevant['platform'] == 'PS4']\n",
    "platform_df = platform_df[platform_df['critic_score'] != -1]\n",
    "# Create a scatter plot of the user and professional reviews vs. sales\n",
    "plt.scatter(platform_df['critic_score'], platform_df['total_sales'])\n",
    "\n",
    "# Add a legend\n",
    "plt.legend(['Professional Reviewsfor PS4'])\n",
    "\n",
    "# Add axis labels and a title\n",
    "plt.xlabel('Review Score')\n",
    "plt.ylabel('Sales (Millions)')\n",
    "plt.title('Critic Reviews vs. Sales for PS4 Games')\n",
    "\n",
    "# Show the plot\n",
    "plt.show()\n",
    "r = platform_df.corr()['critic_score']['total_sales']\n",
    "print(r)\n"
   ]
  },
  {
   "cell_type": "code",
   "execution_count": 73,
   "metadata": {},
   "outputs": [
    {
     "data": {
      "image/png": "[encoded data removed]",
      "text/plain": [
       "<Figure size 432x288 with 1 Axes>"
      ]
     },
     "metadata": {
      "needs_background": "light"
     },
     "output_type": "display_data"
    },
    {
     "name": "stdout",
     "output_type": "stream",
     "text": [
      "-0.03195711020455685\n"
     ]
    }
   ],
   "source": [
    "platform_df= video_games_df_relevant[video_games_df_relevant['platform'] == 'PS4']\n",
    "platform_df = platform_df[platform_df['user_score'] != -1]\n",
    "# Create a scatter plot of the user and professional reviews vs. sales\n",
    "plt.scatter(platform_df['user_score'], platform_df['total_sales'])\n",
    "\n",
    "# Add a legend\n",
    "plt.legend(['User Reviews for PS4'])\n",
    "\n",
    "# Add axis labels and a title\n",
    "plt.xlabel('Review Score')\n",
    "plt.ylabel('Sales (Millions)')\n",
    "plt.title('User Reviews vs. Sales for PS4 Games')\n",
    "\n",
    "# Show the plot\n",
    "plt.show()\n",
    "r = platform_df.corr()['user_score']['total_sales']\n",
    "print(r)"
   ]
  },
  {
   "cell_type": "code",
   "execution_count": 74,
   "metadata": {},
   "outputs": [
    {
     "data": {
      "image/png": "[encoded data removed]",
      "text/plain": [
       "<Figure size 432x288 with 1 Axes>"
      ]
     },
     "metadata": {
      "needs_background": "light"
     },
     "output_type": "display_data"
    },
    {
     "name": "stdout",
     "output_type": "stream",
     "text": [
      "0.4169983280084021\n"
     ]
    }
   ],
   "source": [
    "platform_df= video_games_df_relevant[video_games_df_relevant['platform'] == 'XOne']\n",
    "platform_df = platform_df[platform_df['critic_score'] != -1]\n",
    "# Create a scatter plot of the user and professional reviews vs. sales\n",
    "plt.scatter(platform_df['critic_score'], platform_df['total_sales'])\n",
    "\n",
    "# Add a legend\n",
    "plt.legend(['Professional Reviews for Xbox One'])\n",
    "\n",
    "# Add axis labels and a title\n",
    "plt.xlabel('Review Score')\n",
    "plt.ylabel('Sales (Millions)')\n",
    "plt.title('Critic Reviews vs. Sales for Xbox One Games')\n",
    "\n",
    "# Show the plot\n",
    "plt.show()\n",
    "r = platform_df.corr()['critic_score']['total_sales']\n",
    "print(r)\n"
   ]
  },
  {
   "cell_type": "code",
   "execution_count": 75,
   "metadata": {},
   "outputs": [
    {
     "data": {
      "image/png": "[encoded data removed]",
      "text/plain": [
       "<Figure size 432x288 with 1 Axes>"
      ]
     },
     "metadata": {
      "needs_background": "light"
     },
     "output_type": "display_data"
    },
    {
     "name": "stdout",
     "output_type": "stream",
     "text": [
      "-0.06892505328279543\n"
     ]
    }
   ],
   "source": [
    "platform_df= video_games_df_relevant[video_games_df_relevant['platform'] == 'XOne']\n",
    "platform_df = platform_df[platform_df['user_score'] != -1]\n",
    "# Create a scatter plot of the user and professional reviews vs. sales\n",
    "plt.scatter(platform_df['user_score'], platform_df['total_sales'])\n",
    "\n",
    "# Add a legend\n",
    "plt.legend(['User Reviews for Xbox One'])\n",
    "\n",
    "# Add axis labels and a title\n",
    "plt.xlabel('Review Score')\n",
    "plt.ylabel('Sales (Millions)')\n",
    "plt.title('User Reviews vs. Sales for Xbox One Games')\n",
    "\n",
    "# Show the plot\n",
    "plt.show()\n",
    "r = platform_df.corr()['user_score']['total_sales']\n",
    "print(r)\n"
   ]
  },
  {
   "cell_type": "markdown",
   "metadata": {},
   "source": [
    "A positive correlation coefficient means that as one variable increases, the other variable also tends to increase, and a negative correlation coefficient means that as one variable increases, the other variable tends to decrease. The strength of the correlation is indicated by the magnitude of the coefficient: the closer it is to -1 or 1, the stronger the correlation.\n",
    "\n",
    "We can see that critic reviews have a much stronger correlation compared to user reviews. \n",
    "The only time we see a negative correlation is user reviews with the PS4 and Xbox One. \n",
    "\n",
    "We can see that over the course of the score, there is more of a chance for sales to increase when the game is scored better than others by critics. This could be because when a video game is known to be really good by professional reviews. The video game becomes more exposed to other people through media and word of mouth. \n",
    "\n",
    "I believe the games that had a decent or better score than most possibly didn't increase in sales compared to others because of there are so many video games that it was more difficult for those games to compete with one another. I've included a Critic Score scatter chart to show how scores with average scores were still able to have good sales. This is possible because of how mass media has expanding through computers, television, and smart-phones. \n",
    "\n",
    "For 2017 and ownward, this could have more of an affect with the PS4, Xbox One, and 3DS since social media has grown so much since 2016. "
   ]
  },
  {
   "cell_type": "code",
   "execution_count": 76,
   "metadata": {
    "scrolled": false
   },
   "outputs": [
    {
     "name": "stdout",
     "output_type": "stream",
     "text": [
      "Action          766\n",
      "Role-Playing    292\n",
      "Adventure       245\n",
      "Sports          214\n",
      "Shooter         187\n",
      "Misc            155\n",
      "Racing           85\n",
      "Fighting         80\n",
      "Platform         74\n",
      "Simulation       62\n",
      "Strategy         56\n",
      "Puzzle           17\n",
      "Name: genre, dtype: int64\n"
     ]
    },
    {
     "data": {
      "text/plain": [
       "<AxesSubplot:title={'center':'Total Sales by Genre'}, ylabel='Total Sales'>"
      ]
     },
     "execution_count": 76,
     "metadata": {},
     "output_type": "execute_result"
    },
    {
     "data": {
      "image/png": "[encoded data removed]",
      "text/plain": [
       "<Figure size 432x288 with 1 Axes>"
      ]
     },
     "metadata": {
      "needs_background": "light"
     },
     "output_type": "display_data"
    }
   ],
   "source": [
    "genre_counts = video_games_df_relevant['genre'].value_counts()\n",
    "print(genre_counts)\n",
    "genre_counts.plot(kind='bar',ylabel='Total Sales',title='Total Sales by Genre')"
   ]
  },
  {
   "cell_type": "code",
   "execution_count": 77,
   "metadata": {},
   "outputs": [
    {
     "name": "stdout",
     "output_type": "stream",
     "text": [
      "Shooter         1.245882\n",
      "Sports          0.703972\n",
      "Platform        0.576081\n",
      "Role-Playing    0.499623\n",
      "Racing          0.469294\n",
      "Fighting        0.441375\n",
      "Action          0.420196\n",
      "Misc            0.405290\n",
      "Simulation      0.350968\n",
      "Puzzle          0.186471\n",
      "Strategy        0.180000\n",
      "Adventure       0.096490\n",
      "dtype: float64\n"
     ]
    }
   ],
   "source": [
    "genre_counts = video_games_df_relevant['genre'].value_counts()\n",
    "\n",
    "total_sales_by_genre = video_games_df_relevant.groupby('genre')['total_sales'].sum()\n",
    "\n",
    "sales_per_game_unit = total_sales_by_genre / genre_counts\n",
    "\n",
    "print(sales_per_game_unit.sort_values(ascending=False))\n",
    "\n",
    "\n",
    "# COuld also use average_sales_by_genre = video_games_df.groupby('genre')['total_sales'].mean()\n",
    "\n"
   ]
  },
  {
   "cell_type": "markdown",
   "metadata": {},
   "source": [
    "We can see even though Action has the most sales, \"Shooter\" still has the highest sale per unit. I believe the reason for this is because the wide popularity of games like Overwatch, Call of Duty, BattleField, and more.\n",
    "\n",
    "If we were to look at the other genres, it looks like Sports, Role-Playing, Racing, and Platform make up the rest of the top 5 for sale per unit. This goes more hand and hand with what console games today deliver to their players. "
   ]
  },
  {
   "cell_type": "code",
   "execution_count": 78,
   "metadata": {
    "scrolled": false
   },
   "outputs": [
    {
     "name": "stdout",
     "output_type": "stream",
     "text": [
      "platform\n",
      "2600        \n",
      "3DO         \n",
      "3DS     0.23\n",
      "DC          \n",
      "DS          \n",
      "GB          \n",
      "GBA         \n",
      "GC          \n",
      "GEN         \n",
      "GG          \n",
      "N64         \n",
      "NES         \n",
      "NG          \n",
      "PC       0.4\n",
      "PCFX        \n",
      "PS          \n",
      "PS2         \n",
      "PS3     6.46\n",
      "PS4     3.01\n",
      "PSP     0.19\n",
      "PSV     0.41\n",
      "SAT         \n",
      "SCD         \n",
      "SNES        \n",
      "TG16        \n",
      "WS          \n",
      "Wii     0.38\n",
      "WiiU        \n",
      "X360    4.22\n",
      "XB          \n",
      "XOne    1.16\n",
      "Name: FIFA 14, dtype: object\n",
      "platform\n",
      "2600        \n",
      "3DO         \n",
      "3DS         \n",
      "DC          \n",
      "DS          \n",
      "GB          \n",
      "GBA         \n",
      "GC          \n",
      "GEN         \n",
      "GG          \n",
      "N64         \n",
      "NES         \n",
      "NG          \n",
      "PC      0.41\n",
      "PCFX        \n",
      "PS          \n",
      "PS2         \n",
      "PS3     4.36\n",
      "PS4     7.66\n",
      "PSP         \n",
      "PSV         \n",
      "SAT         \n",
      "SCD         \n",
      "SNES        \n",
      "TG16        \n",
      "WS          \n",
      "Wii         \n",
      "WiiU        \n",
      "X360    4.28\n",
      "XB          \n",
      "XOne    5.26\n",
      "Name: Call of Duty: Advanced Warfare, dtype: object\n",
      "platform\n",
      "2600        \n",
      "3DO         \n",
      "3DS         \n",
      "DC          \n",
      "DS          \n",
      "GB          \n",
      "GBA         \n",
      "GC          \n",
      "GEN         \n",
      "GG          \n",
      "N64         \n",
      "NES         \n",
      "NG          \n",
      "PC      0.53\n",
      "PCFX        \n",
      "PS          \n",
      "PS2         \n",
      "PS3         \n",
      "PS4     2.14\n",
      "PSP         \n",
      "PSV         \n",
      "SAT         \n",
      "SCD         \n",
      "SNES        \n",
      "TG16        \n",
      "WS          \n",
      "Wii         \n",
      "WiiU        \n",
      "X360        \n",
      "XB          \n",
      "XOne    1.06\n",
      "Name: Overwatch, dtype: object\n",
      "platform\n",
      "2600        \n",
      "3DO         \n",
      "3DS         \n",
      "DC          \n",
      "DS          \n",
      "GB          \n",
      "GBA         \n",
      "GC          \n",
      "GEN         \n",
      "GG          \n",
      "N64         \n",
      "NES         \n",
      "NG          \n",
      "PC          \n",
      "PCFX        \n",
      "PS          \n",
      "PS2         \n",
      "PS3         \n",
      "PS4         \n",
      "PSP         \n",
      "PSV         \n",
      "SAT         \n",
      "SCD         \n",
      "SNES        \n",
      "TG16        \n",
      "WS          \n",
      "Wii         \n",
      "WiiU    4.32\n",
      "X360        \n",
      "XB          \n",
      "XOne        \n",
      "Name: Super Mario 3D World, dtype: object\n"
     ]
    }
   ],
   "source": [
    "sales_by_game_and_platform = video_games_df.pivot_table(index='name', columns='platform', values='total_sales',fill_value='')\n",
    "game = 'FIFA 14' \n",
    "game2 = 'Call of Duty: Advanced Warfare'\n",
    "game3= 'Overwatch'\n",
    "game4 = 'Super Mario 3D World'\n",
    "# Print the sales of the game on different platforms\n",
    "print(sales_by_game_and_platform.loc[game])\n",
    "print(sales_by_game_and_platform.loc[game2])\n",
    "print(sales_by_game_and_platform.loc[game3])\n",
    "print(sales_by_game_and_platform.loc[game4])"
   ]
  },
  {
   "cell_type": "markdown",
   "metadata": {},
   "source": [
    "Release dates \n",
    "Fifa 14: September 23, 2013\n",
    "Overwatch: May 24, 2016\n",
    "COD: November 4, 2014\n",
    "Super Mario 3D World: November 21, 2013"
   ]
  },
  {
   "cell_type": "markdown",
   "metadata": {},
   "source": [
    "No reason to rectify data due to games being in time period 2013-2016"
   ]
  },
  {
   "cell_type": "markdown",
   "metadata": {},
   "source": [
    "Based on this data we can see how popular the games are on the platforms PS4, Xbox One, and 3Ds. We even see how popular they were on older platforms before they died out. "
   ]
  },
  {
   "cell_type": "markdown",
   "metadata": {},
   "source": []
  },
  {
   "cell_type": "code",
   "execution_count": 79,
   "metadata": {
    "scrolled": false
   },
   "outputs": [
    {
     "data": {
      "image/png": "[encoded data removed]",
      "text/plain": [
       "<Figure size 432x288 with 1 Axes>"
      ]
     },
     "metadata": {
      "needs_background": "light"
     },
     "output_type": "display_data"
    },
    {
     "name": "stdout",
     "output_type": "stream",
     "text": [
      "rating\n",
      "M       165.21\n",
      "N/A      89.42\n",
      "E        79.05\n",
      "E10+     54.24\n",
      "T        49.79\n",
      "Name: na_sales, dtype: float64\n",
      "genre\n",
      "Action          126.05\n",
      "Shooter         109.74\n",
      "Sports           65.27\n",
      "Role-Playing     46.40\n",
      "Misc             27.49\n",
      "Platform         18.14\n",
      "Fighting         15.55\n",
      "Racing           12.96\n",
      "Adventure         7.14\n",
      "Simulation        4.86\n",
      "Strategy          3.28\n",
      "Puzzle            0.83\n",
      "Name: na_sales, dtype: float64\n"
     ]
    },
    {
     "data": {
      "image/png": "[encoded data removed]",
      "text/plain": [
       "<Figure size 1080x360 with 1 Axes>"
      ]
     },
     "metadata": {
      "needs_background": "light"
     },
     "output_type": "display_data"
    },
    {
     "data": {
      "image/png": "[encoded data removed]",
      "text/plain": [
       "<Figure size 432x288 with 1 Axes>"
      ]
     },
     "metadata": {
      "needs_background": "light"
     },
     "output_type": "display_data"
    },
    {
     "name": "stdout",
     "output_type": "stream",
     "text": [
      "rating\n",
      "M       145.32\n",
      "E        83.36\n",
      "N/A      78.91\n",
      "E10+     42.69\n",
      "T        41.95\n",
      "Name: eu_sales, dtype: float64\n",
      "genre\n",
      "Action          118.13\n",
      "Shooter          87.86\n",
      "Sports           60.52\n",
      "Role-Playing     36.97\n",
      "Racing           20.19\n",
      "Misc             20.04\n",
      "Platform         15.58\n",
      "Simulation       10.92\n",
      "Fighting          8.55\n",
      "Adventure         8.25\n",
      "Strategy          4.22\n",
      "Puzzle            1.00\n",
      "Name: eu_sales, dtype: float64\n"
     ]
    },
    {
     "data": {
      "image/png": "[encoded data removed]",
      "text/plain": [
       "<Figure size 1080x360 with 1 Axes>"
      ]
     },
     "metadata": {
      "needs_background": "light"
     },
     "output_type": "display_data"
    },
    {
     "data": {
      "image/png": "[encoded data removed]",
      "text/plain": [
       "<Figure size 432x288 with 1 Axes>"
      ]
     },
     "metadata": {
      "needs_background": "light"
     },
     "output_type": "display_data"
    },
    {
     "name": "stdout",
     "output_type": "stream",
     "text": [
      "rating\n",
      "N/A     85.05\n",
      "T       20.59\n",
      "E       15.14\n",
      "M       14.11\n",
      "E10+     5.89\n",
      "Name: jp_sales, dtype: float64\n",
      "genre\n",
      "Role-Playing    51.04\n",
      "Action          40.49\n",
      "Misc             9.20\n",
      "Fighting         7.65\n",
      "Shooter          6.61\n",
      "Adventure        5.82\n",
      "Sports           5.41\n",
      "Platform         4.79\n",
      "Simulation       4.52\n",
      "Racing           2.30\n",
      "Strategy         1.77\n",
      "Puzzle           1.18\n",
      "Name: jp_sales, dtype: float64\n"
     ]
    },
    {
     "data": {
      "image/png": "[encoded data removed]",
      "text/plain": [
       "<Figure size 1080x360 with 1 Axes>"
      ]
     },
     "metadata": {
      "needs_background": "light"
     },
     "output_type": "display_data"
    },
    {
     "data": {
      "image/png": "[encoded data removed]",
      "text/plain": [
       "<Figure size 432x288 with 1 Axes>"
      ]
     },
     "metadata": {
      "needs_background": "light"
     },
     "output_type": "display_data"
    },
    {
     "name": "stdout",
     "output_type": "stream",
     "text": [
      "rating\n",
      "M       47.04\n",
      "N/A     23.46\n",
      "E       22.61\n",
      "T       14.29\n",
      "E10+    12.57\n",
      "Name: other_sales, dtype: float64\n",
      "genre\n",
      "Action          37.20\n",
      "Shooter         28.77\n",
      "Sports          19.45\n",
      "Role-Playing    11.48\n",
      "Misc             6.09\n",
      "Racing           4.44\n",
      "Platform         4.12\n",
      "Fighting         3.56\n",
      "Adventure        2.43\n",
      "Simulation       1.46\n",
      "Strategy         0.81\n",
      "Puzzle           0.16\n",
      "Name: other_sales, dtype: float64\n"
     ]
    },
    {
     "data": {
      "image/png": "[encoded data removed]",
      "text/plain": [
       "<Figure size 1080x360 with 1 Axes>"
      ]
     },
     "metadata": {
      "needs_background": "light"
     },
     "output_type": "display_data"
    }
   ],
   "source": [
    "def plot_sales_by_region(df, sales_column, top_n_platforms):\n",
    "    df_sales = df.groupby(['platform'])[sales_column].sum().sort_values(ascending=False)\n",
    "    top_platforms = df_sales.head(top_n_platforms).reset_index()\n",
    "    sns.barplot(x=\"platform\", y=sales_column, data=top_platforms)\n",
    "    plt.title('Total Sales 2013-2016 per Platform')\n",
    "    plt.ylabel('Year')\n",
    "    plt.show()\n",
    "    \n",
    "    sales_by_rating = df.groupby('rating')[sales_column].sum()\n",
    "    print(sales_by_rating.sort_values(ascending=False))\n",
    "    \n",
    "    df_genre_sales = df.groupby('genre')[sales_column].sum().sort_values(ascending=False)\n",
    "    print(df_genre_sales)\n",
    "    df_genre_sales_mean = df.groupby('genre')[sales_column].mean()\n",
    "    df_genre_sales_mean.sort_values(ascending=False)\n",
    "\n",
    "    df_platform_year_sales = df.groupby(['platform','year_of_release'])[sales_column].sum()\n",
    "\n",
    "    region_other_platforms = df_platform_year_sales.reset_index()\n",
    "\n",
    "    promising_platforms_ps4 = region_other_platforms[region_other_platforms['platform'] == 'PS4']\n",
    "    promising_platform_XboxOne = region_other_platforms[region_other_platforms['platform'] == 'XOne']\n",
    "    promising_platform_3DS = region_other_platforms[region_other_platforms['platform'] == '3DS']\n",
    "\n",
    "\n",
    "    promise_df = pd.concat([promising_platforms_ps4, promising_platform_XboxOne, promising_platform_3DS], axis=0)\n",
    "\n",
    "    plt.figure(figsize=(15, 5))\n",
    "\n",
    "    sns.barplot(data=promise_df, #dataset\n",
    "                 x='year_of_release', #variable along the x-axis\n",
    "                 y=sales_column, #variable along the y-axis (usually the thing you are actually measuring)\n",
    "                hue = 'platform' #the variable you want to group data by to compare (ex. gender, country, plan)\n",
    "\n",
    "               )\n",
    "    plt.title('Most Relevant Platforms for 2017')\n",
    "    plt.show()\n",
    "\n",
    "# Example usage:\n",
    "plot_sales_by_region(video_games_df_relevant, \"na_sales\", 5)\n",
    "plot_sales_by_region(video_games_df_relevant, \"eu_sales\", 5)\n",
    "plot_sales_by_region(video_games_df_relevant, \"jp_sales\", 5)\n",
    "plot_sales_by_region(video_games_df_relevant, \"other_sales\", 5)\n"
   ]
  },
  {
   "cell_type": "markdown",
   "metadata": {},
   "source": [
    "It looks like the most popular platform is the Playstation 4.\n",
    "The most popular genres are shooters and action. \n",
    "The most popular ESRB is M for mature. \n",
    "\n",
    "The main difference between all these regions are Japan. Japan loves their Nintendo Platforms and the 3DS. This is probaly why their most popular ESRB rating is T and E. Pokemon, Super Mario Bros, Legend of Zelda, and more. These are all rated E and T and are Nintendo exclusives. \n",
    "\n",
    "The reason why Japan has no many ESRB ratings missing from the data is because ESRB iss the organization responsible for rating video games in North America, while Japan has a different rating system. ESRB rating is voluntary, and it may not be required for games sold in Japan.\n",
    "\n",
    "Japan has a self-regulatory system for video game content rating, which is called Computer Entertainment Rating Organization (CERO) that was established in 2002 by the Computer Entertainment Supplier's Association (CESA), Japan's video game industry trade group. Therefore, it's quite common for games in Japan to be released without an ESRB rating, as it may not be required."
   ]
  },
  {
   "cell_type": "code",
   "execution_count": 80,
   "metadata": {},
   "outputs": [
    {
     "name": "stdout",
     "output_type": "stream",
     "text": [
      "0.20111399900783614\n",
      "Fail to reject the null hypothesis\n"
     ]
    }
   ],
   "source": [
    "# Average user ratings of the Xbox One and PC platforms are the same.\n",
    "xbox_one_data = video_games_df_relevant[video_games_df_relevant['platform'] == 'XOne']\n",
    "pc_data = video_games_df_relevant[video_games_df_relevant['platform'] == 'PC']\n",
    "\n",
    "\n",
    "xbox_one_ratings = xbox_one_data['user_score']\n",
    "pc_ratings = pc_data['user_score']\n",
    "\n",
    "\n",
    "t_stat, p_value = stats.ttest_ind(xbox_one_ratings, pc_ratings)\n",
    "print(p_value)\n",
    "\n",
    "alpha = 0.05\n",
    "\n",
    "if p_value < alpha:\n",
    "    print(\"Reject the null hypothesis\")\n",
    "else:\n",
    "    print(\"Fail to reject the null hypothesis\")"
   ]
  },
  {
   "cell_type": "markdown",
   "metadata": {},
   "source": [
    "True. The average user rating for PC and Xbox One are the same"
   ]
  },
  {
   "cell_type": "code",
   "execution_count": 81,
   "metadata": {},
   "outputs": [
    {
     "name": "stdout",
     "output_type": "stream",
     "text": [
      "0.02193663336455412\n",
      "Reject the null hypothesis\n"
     ]
    }
   ],
   "source": [
    "# Average user ratings of the Action and Sports genre are different\n",
    "action_data = video_games_df_relevant[video_games_df_relevant['genre'] == 'Action']\n",
    "sports_data = video_games_df_relevant[video_games_df_relevant['genre'] == 'Sports']\n",
    "\n",
    "action_ratings = action_data['user_score']\n",
    "sports_ratings = sports_data['user_score']\n",
    "\n",
    "t_stat, p_value = stats.ttest_ind(action_ratings, sports_ratings)\n",
    "print(p_value)\n",
    "alpha = 0.05\n",
    "\n",
    "if p_value < alpha:\n",
    "    print(\"Reject the null hypothesis\")\n",
    "else:\n",
    "    print(\"Fail to reject the null hypothesis\")"
   ]
  },
  {
   "cell_type": "markdown",
   "metadata": {},
   "source": [
    "True. The average user rating for Action and Sports are different."
   ]
  },
  {
   "cell_type": "markdown",
   "metadata": {},
   "source": [
    "For the first hypothesis, the null hypothesis is that the means of the two samples are equal, and the alternative hypothesis is that the means of the two samples are different.\n",
    "\n",
    "Null hypothesis (H0): The mean user rating for the Xbox One platform is equal to the mean user rating for the PC platform.\n",
    "Alternative hypothesis (H1): The mean user rating for the Xbox One platform is not equal to the mean user rating for the PC platform.\n",
    "\n",
    "For the second hypothesis (that the average user ratings for the Action and Sports genres are different), the null and alternative hypotheses can be formulated as follows:\n",
    "\n",
    "Null hypothesis (H0): The average user ratings for the Action and Sports genres are equal.\n",
    "Alternative hypothesis (H1): The mean user rating for the Action genre is different to the mean user rating for the Sports genre.\n",
    "\n",
    "The significance level is the probability of rejecting the null hypothesis when it is true. In this case, I have chosen a significance level of 0.05 (alpha = 0.05). This means that there is a 5% chance of rejecting the null hypothesis when it is true. I chose this significance level because it is a commonly used value that provides a good balance between the risk of making a Type I error and the power of the test (the probability of rejecting the null hypothesis when it is false). If the p-value is greater than or equal to 0.05, we will fail to reject the null hypothesis and conclude that there is not\n",
    "\n",
    "\n"
   ]
  },
  {
   "cell_type": "markdown",
   "metadata": {},
   "source": [
    "# Conclusion \n",
    "\n",
    "I have come to fine that majority of the sales are coming from the Playstation Platforms (PS, PS2, PS3, and PS4). I would continue to advetise for the PS4, as it is the newest generation console and the most popular out of its competitors. I would also reccomend advertising for Xbox One and the Nintendo 3DS. \n",
    "\n",
    "Based on the reviews, we found that critic scores are much stronger of a postive correlation than compared to user reviews. \n",
    "The only time there was anegative correlation was user reviews for the Xbox One and PS4. This could be because of larger social media presence revolving these paltforms. Although, none of the correlations are extremely strong. \n",
    "\n",
    "Based on genre, I would focus advertisements on Action and Shooter games. These have become very popular within the recent years due to major games like Call of Duty and Battlefield. Other genres I would focus on are Sports and Roleplaying. \n",
    "\n",
    "Based on ESRB ratings, you will most likely have to advertise for M games. This is probably because of the popularity revolving shooter and action games in each region. \n",
    "\n",
    "Platforms: PS4, Xbox One, and 3DS\n",
    "Genres: Shooters, Role-Playing, Sports, and Action\n",
    "Ratings: M for mature, T for Teen, and E for everyone. \n",
    "\n"
   ]
  }
 ],
 "metadata": {
  "kernelspec": {
   "display_name": "Python 3 (ipykernel)",
   "language": "python",
   "name": "python3"
  },
  "language_info": {
   "codemirror_mode": {
    "name": "ipython",
    "version": 3
   },
   "file_extension": ".py",
   "mimetype": "text/x-python",
   "name": "python",
   "nbconvert_exporter": "python",
   "pygments_lexer": "ipython3",
   "version": "3.9.12"
  },
  "toc": {
   "base_numbering": 1,
   "nav_menu": {},
   "number_sections": true,
   "sideBar": true,
   "skip_h1_title": true,
   "title_cell": "Table of Contents",
   "title_sidebar": "Contents",
   "toc_cell": false,
   "toc_position": {
    "height": "calc(100% - 180px)",
    "left": "10px",
    "top": "150px",
    "width": "306.394px"
   },
   "toc_section_display": true,
   "toc_window_display": true
  }
 },
 "nbformat": 4,
 "nbformat_minor": 2
}
